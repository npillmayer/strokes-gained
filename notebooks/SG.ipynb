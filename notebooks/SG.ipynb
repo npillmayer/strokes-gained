{
 "cells": [
  {
   "cell_type": "markdown",
   "metadata": {},
   "source": [
    "# Strokes Gained Statistics\n",
    "“The strokes gained concept was initially developed by Professor Mark Broadie of Columbia University, utilizing ShotLink data that has been made available to academic institutions for research since 2007. Strokes gained is a better method for measuring performance because it compares a player's performance to the rest of the field and because it can isolate individual aspects of the game. Traditional golf statistics, such as greens in regulation and putts per green, are influenced by a player's performance on shots other than those being measured.”\n",
    "\n",
    "(*Taken from an informational web-page of the PGA Tour*)\n",
    "\n",
    "## Table of contents <a id=\"toc\"></a>\n",
    "\n",
    "1. [Data Wrangling](#wrangling)\n",
    "    1. [Load Course Data](#loadcourse)\n",
    "    1. [Load Game Data](#loadgame)\n",
    "2. [Strokes Gained Categories](#categories)\n",
    "    1. [Base Tables](#basetables)\n",
    "    1. [Metrics](#metrics)\n",
    "2. [Preparing Summaries](#summaries)\n",
    "    1. [Per Category Summaries](#catsummaries)\n",
    "    1. [Category Groups](#catgroups)\n",
    "    1. [Classic Statistics](#classics)"
   ]
  },
  {
   "cell_type": "markdown",
   "metadata": {},
   "source": [
    "## Data Wrangling <a name=\"wrangling\"></a>\n",
    "(<a href=\"#toc\">back to ToC</a>)\n"
   ]
  },
  {
   "cell_type": "code",
   "execution_count": 1,
   "metadata": {},
   "outputs": [],
   "source": [
    "import os\n",
    "import re\n",
    "import json\n",
    "import datetime"
   ]
  },
  {
   "cell_type": "markdown",
   "metadata": {},
   "source": [
    "### Load Course Data <a name=\"loadcourse\"></a>\n",
    "(<a href=\"#toc\">back to ToC</a>)\n",
    "\n",
    "Course data consists of meta data describing geo-coordinates and other aspects of every hole on the course."
   ]
  },
  {
   "cell_type": "code",
   "execution_count": 2,
   "metadata": {},
   "outputs": [],
   "source": [
    "courses_path = \"/Users/npi/prg/python/strokesgained/strogain/static\"\n",
    "course_name = \"Open.9\"\n",
    "meta_info_file = \"course.json\"\n",
    "\n",
    "course_meta_path = os.path.join(courses_path, course_name, meta_info_file)\n",
    "\n",
    "with open(course_meta_path, 'r') as f:\n",
    "    course_meta = json.load(f)"
   ]
  },
  {
   "cell_type": "markdown",
   "metadata": {},
   "source": [
    "For convenience, we define a function to get the level-par score for a hole. We will use this later to attach the par score to every shot of a game."
   ]
  },
  {
   "cell_type": "code",
   "execution_count": 3,
   "metadata": {},
   "outputs": [
    {
     "data": {
      "text/plain": [
       "3"
      ]
     },
     "execution_count": 3,
     "metadata": {},
     "output_type": "execute_result"
    }
   ],
   "source": [
    "def par_for_hole(holeno):\n",
    "    return course_meta['holes'][str(holeno)]['par']\n",
    "\n",
    "par_for_hole(2)"
   ]
  },
  {
   "cell_type": "markdown",
   "metadata": {},
   "source": [
    "### Load Game Data <a name=\"loadgame\"></a>\n",
    "(<a href=\"#toc\">back to ToC</a>)\n",
    "\n",
    "Load a set of games. Games describe all the shots of a round of golf.\n",
    "\n",
    "Parameters will be provided by an HTML form, but we use constants for now."
   ]
  },
  {
   "cell_type": "code",
   "execution_count": 4,
   "metadata": {
    "scrolled": true
   },
   "outputs": [],
   "source": [
    "games_path = \"/Users/npi/prg/python/strokesgained/instance/games\"  # substitute this with flask-variables\n",
    "user = \"Norbert\"\n",
    "#date_range = [datetime.date.today()-datetime.timedelta(days = 10), datetime.date.today()]\n",
    "date_range = [datetime.date.today()-datetime.timedelta(days = 12),\n",
    "              datetime.date.today()-datetime.timedelta(days = 10)]"
   ]
  },
  {
   "cell_type": "markdown",
   "metadata": {},
   "source": [
    "We will load all the rounds of golf in a given date range. First prepare some helper functions."
   ]
  },
  {
   "cell_type": "code",
   "execution_count": 5,
   "metadata": {},
   "outputs": [
    {
     "data": {
      "text/plain": [
       "['game-2020-10-01.json']"
      ]
     },
     "execution_count": 5,
     "metadata": {},
     "output_type": "execute_result"
    }
   ],
   "source": [
    "# Check if a date is within a certain range\n",
    "def check_date_range(date_as_string, date_from, date_to):\n",
    "    d = datetime.datetime.strptime(date_as_string, \"%Y-%m-%d\").date()\n",
    "    return date_from <= d <= date_to\n",
    "\n",
    "all_games_rx = re.compile('game-(\\d\\d\\d\\d-\\d\\d-\\d\\d).json')\n",
    "\n",
    "# Return a list of all the game filenames for a given date range\n",
    "def games_in_range(uid, date_from, date_to):\n",
    "    dirname = os.path.join(games_path, uid)\n",
    "    files = os.listdir(dirname)\n",
    "    flist = []\n",
    "    for fname in files:\n",
    "        #print(fname)\n",
    "        m = all_games_rx.search(fname)\n",
    "        if m:\n",
    "            dstr = m.group(1)\n",
    "            #print(\"date = '%s'\" % dstr)\n",
    "            if check_date_range(dstr, date_from, date_to):\n",
    "                flist.append(fname)\n",
    "    return flist\n",
    "\n",
    "#check_date_range(\"2020-10-07\", datetime.date.today(), datetime.date.today()+datetime.timedelta(days = 3))\n",
    "games_in_range(\"Norbert\", date_range[0], date_range[1])"
   ]
  },
  {
   "cell_type": "markdown",
   "metadata": {},
   "source": [
    "We will process game files one by one, loading their JSON contents. *action* will be a function which takes the JSON as a parameter."
   ]
  },
  {
   "cell_type": "code",
   "execution_count": 6,
   "metadata": {},
   "outputs": [],
   "source": [
    "def process_game_files(game_filenames, action, initial, *params):\n",
    "    res = initial\n",
    "    for gf in game_filenames:\n",
    "        m = all_games_rx.search(gf)\n",
    "        game_data_path = os.path.join(games_path, user, gf)\n",
    "        with open(game_data_path, 'r') as f:\n",
    "            game = json.load(f)\n",
    "            print(\"Processing game %s\" % gf)\n",
    "            res = action(game, m.group(1), initial, *params)\n",
    "    return res\n",
    "\n",
    "#game['game']['1']['pin']"
   ]
  },
  {
   "cell_type": "markdown",
   "metadata": {},
   "source": [
    "Game data is collected in a Pandas data frame."
   ]
  },
  {
   "cell_type": "code",
   "execution_count": 7,
   "metadata": {},
   "outputs": [],
   "source": [
    "import numpy as np\n",
    "import pandas as pd"
   ]
  },
  {
   "cell_type": "markdown",
   "metadata": {},
   "source": [
    "We define an action function which collects all the strokes in a game and appends them as rows to a data frame."
   ]
  },
  {
   "cell_type": "code",
   "execution_count": 8,
   "metadata": {},
   "outputs": [
    {
     "name": "stdout",
     "output_type": "stream",
     "text": [
      "Processing game game-2020-10-01.json\n",
      "Game has holes ['1', '2']\n"
     ]
    },
    {
     "data": {
      "text/html": [
       "<div>\n",
       "<style scoped>\n",
       "    .dataframe tbody tr th:only-of-type {\n",
       "        vertical-align: middle;\n",
       "    }\n",
       "\n",
       "    .dataframe tbody tr th {\n",
       "        vertical-align: top;\n",
       "    }\n",
       "\n",
       "    .dataframe thead th {\n",
       "        text-align: right;\n",
       "    }\n",
       "</style>\n",
       "<table border=\"1\" class=\"dataframe\">\n",
       "  <thead>\n",
       "    <tr style=\"text-align: right;\">\n",
       "      <th></th>\n",
       "      <th>round</th>\n",
       "      <th>hole</th>\n",
       "      <th>stroke</th>\n",
       "      <th>from</th>\n",
       "      <th>to</th>\n",
       "      <th>lie</th>\n",
       "      <th>result</th>\n",
       "      <th>pin</th>\n",
       "    </tr>\n",
       "  </thead>\n",
       "  <tbody>\n",
       "    <tr>\n",
       "      <td>0</td>\n",
       "      <td>2020-10-01</td>\n",
       "      <td>1</td>\n",
       "      <td>1</td>\n",
       "      <td>[48.27084, 11.755183]</td>\n",
       "      <td>[48.270861496117746, 11.752224862575533]</td>\n",
       "      <td>T</td>\n",
       "      <td>F</td>\n",
       "      <td>[48.270654, 11.75027]</td>\n",
       "    </tr>\n",
       "    <tr>\n",
       "      <td>1</td>\n",
       "      <td>2020-10-01</td>\n",
       "      <td>1</td>\n",
       "      <td>2</td>\n",
       "      <td>[48.270861496117746, 11.752224862575533]</td>\n",
       "      <td>[48.27063476186812, 11.75046466290951]</td>\n",
       "      <td>F</td>\n",
       "      <td>F</td>\n",
       "      <td>[48.270654, 11.75027]</td>\n",
       "    </tr>\n",
       "    <tr>\n",
       "      <td>2</td>\n",
       "      <td>2020-10-01</td>\n",
       "      <td>1</td>\n",
       "      <td>3</td>\n",
       "      <td>[48.27063476186812, 11.75046466290951]</td>\n",
       "      <td>[48.2706472590577, 11.750293001532556]</td>\n",
       "      <td>F</td>\n",
       "      <td>G</td>\n",
       "      <td>[48.270654, 11.75027]</td>\n",
       "    </tr>\n",
       "    <tr>\n",
       "      <td>3</td>\n",
       "      <td>2020-10-01</td>\n",
       "      <td>1</td>\n",
       "      <td>4</td>\n",
       "      <td>[48.2706472590577, 11.750293001532556]</td>\n",
       "      <td>[48.270654, 11.75027]</td>\n",
       "      <td>G</td>\n",
       "      <td>H</td>\n",
       "      <td>[48.270654, 11.75027]</td>\n",
       "    </tr>\n",
       "    <tr>\n",
       "      <td>4</td>\n",
       "      <td>2020-10-01</td>\n",
       "      <td>2</td>\n",
       "      <td>1</td>\n",
       "      <td>[48.270174, 11.750044]</td>\n",
       "      <td>[48.2692154183122, 11.750343292951586]</td>\n",
       "      <td>T</td>\n",
       "      <td>F</td>\n",
       "      <td>[48.26918, 11.75065]</td>\n",
       "    </tr>\n",
       "    <tr>\n",
       "      <td>5</td>\n",
       "      <td>2020-10-01</td>\n",
       "      <td>2</td>\n",
       "      <td>2</td>\n",
       "      <td>[48.2692154183122, 11.750343292951586]</td>\n",
       "      <td>[48.269140433028, 11.750474385917189]</td>\n",
       "      <td>F</td>\n",
       "      <td>F</td>\n",
       "      <td>[48.26918, 11.75065]</td>\n",
       "    </tr>\n",
       "    <tr>\n",
       "      <td>6</td>\n",
       "      <td>2020-10-01</td>\n",
       "      <td>2</td>\n",
       "      <td>3</td>\n",
       "      <td>[48.269140433028, 11.750474385917189]</td>\n",
       "      <td>[48.26918, 11.75065]</td>\n",
       "      <td>F</td>\n",
       "      <td>H</td>\n",
       "      <td>[48.26918, 11.75065]</td>\n",
       "    </tr>\n",
       "  </tbody>\n",
       "</table>\n",
       "</div>"
      ],
      "text/plain": [
       "        round hole  stroke                                      from  \\\n",
       "0  2020-10-01    1       1                     [48.27084, 11.755183]   \n",
       "1  2020-10-01    1       2  [48.270861496117746, 11.752224862575533]   \n",
       "2  2020-10-01    1       3    [48.27063476186812, 11.75046466290951]   \n",
       "3  2020-10-01    1       4    [48.2706472590577, 11.750293001532556]   \n",
       "4  2020-10-01    2       1                    [48.270174, 11.750044]   \n",
       "5  2020-10-01    2       2    [48.2692154183122, 11.750343292951586]   \n",
       "6  2020-10-01    2       3     [48.269140433028, 11.750474385917189]   \n",
       "\n",
       "                                         to lie result                    pin  \n",
       "0  [48.270861496117746, 11.752224862575533]   T      F  [48.270654, 11.75027]  \n",
       "1    [48.27063476186812, 11.75046466290951]   F      F  [48.270654, 11.75027]  \n",
       "2    [48.2706472590577, 11.750293001532556]   F      G  [48.270654, 11.75027]  \n",
       "3                     [48.270654, 11.75027]   G      H  [48.270654, 11.75027]  \n",
       "4    [48.2692154183122, 11.750343292951586]   T      F   [48.26918, 11.75065]  \n",
       "5     [48.269140433028, 11.750474385917189]   F      F   [48.26918, 11.75065]  \n",
       "6                      [48.26918, 11.75065]   F      H   [48.26918, 11.75065]  "
      ]
     },
     "execution_count": 8,
     "metadata": {},
     "output_type": "execute_result"
    }
   ],
   "source": [
    "def load_game_action(game, gdate, initial, *params):\n",
    "    holes = [ holeno for holeno in game['game']]\n",
    "    print(\"Game has holes\", holes)\n",
    "    df = initial\n",
    "    for h in holes:\n",
    "        strokes = game['game'][h]['strokes']\n",
    "        for s in strokes:\n",
    "            row = {\n",
    "                'round': gdate,\n",
    "                'hole': h,\n",
    "                'stroke': int(s['stroke']),\n",
    "                'from': s['from'],\n",
    "                'to': s['to'],\n",
    "                'lie': s['lie'],\n",
    "                'result': s['result'],\n",
    "                'pin': game['game'][h]['pin']\n",
    "            }\n",
    "            #print(row)\n",
    "            df = df.append(row, ignore_index=True)\n",
    "    return df\n",
    "\n",
    "\n",
    "def load_games_as_dataframe(game_filenames):\n",
    "    df = pd.DataFrame(columns=['round', 'hole', 'stroke', 'from', 'to', 'lie', 'result', 'pin'])\n",
    "    df['stroke'] = df['stroke'].astype(int)\n",
    "    df = process_game_files(game_filenames, load_game_action, df)\n",
    "    return df\n",
    "\n",
    "\n",
    "game_filenames = games_in_range(user, date_range[0], date_range[1])\n",
    "df = load_games_as_dataframe(game_filenames)\n",
    "df.head(7)"
   ]
  },
  {
   "cell_type": "markdown",
   "metadata": {},
   "source": [
    "We need to calculate geo-distances. *Strokes gained* is all about getting nearer to the hole."
   ]
  },
  {
   "cell_type": "code",
   "execution_count": 9,
   "metadata": {},
   "outputs": [
    {
     "data": {
      "text/plain": [
       "170.19353829861737"
      ]
     },
     "execution_count": 9,
     "metadata": {},
     "output_type": "execute_result"
    }
   ],
   "source": [
    "import geopy.distance\n",
    "\n",
    "def dist_to_pin(row):\n",
    "    return geopy.distance.distance(row['from'], row['pin']).m\n",
    "\n",
    "def rest_to_pin(row):\n",
    "    return geopy.distance.distance(row['to'], row['pin']).m\n",
    "\n",
    "# 'm' returns distance in meters\n",
    "d = geopy.distance.distance([48.27065440030751, 11.750349998474123], [48.269147574488386, 11.750752329826357]).m\n",
    "d"
   ]
  },
  {
   "cell_type": "markdown",
   "metadata": {},
   "source": [
    "For *strokes gained* calculation we do not need absolute geo-coordinates, but rather distances to the pin."
   ]
  },
  {
   "cell_type": "code",
   "execution_count": 10,
   "metadata": {},
   "outputs": [
    {
     "data": {
      "text/html": [
       "<div>\n",
       "<style scoped>\n",
       "    .dataframe tbody tr th:only-of-type {\n",
       "        vertical-align: middle;\n",
       "    }\n",
       "\n",
       "    .dataframe tbody tr th {\n",
       "        vertical-align: top;\n",
       "    }\n",
       "\n",
       "    .dataframe thead th {\n",
       "        text-align: right;\n",
       "    }\n",
       "</style>\n",
       "<table border=\"1\" class=\"dataframe\">\n",
       "  <thead>\n",
       "    <tr style=\"text-align: right;\">\n",
       "      <th></th>\n",
       "      <th>round</th>\n",
       "      <th>hole</th>\n",
       "      <th>stroke</th>\n",
       "      <th>lie</th>\n",
       "      <th>result</th>\n",
       "      <th>from2pin</th>\n",
       "      <th>to2pin</th>\n",
       "      <th>dist</th>\n",
       "    </tr>\n",
       "  </thead>\n",
       "  <tbody>\n",
       "    <tr>\n",
       "      <td>0</td>\n",
       "      <td>2020-10-01</td>\n",
       "      <td>1</td>\n",
       "      <td>1</td>\n",
       "      <td>T</td>\n",
       "      <td>F</td>\n",
       "      <td>365.297857</td>\n",
       "      <td>146.940086</td>\n",
       "      <td>218.357771</td>\n",
       "    </tr>\n",
       "    <tr>\n",
       "      <td>1</td>\n",
       "      <td>2020-10-01</td>\n",
       "      <td>1</td>\n",
       "      <td>2</td>\n",
       "      <td>F</td>\n",
       "      <td>F</td>\n",
       "      <td>146.940086</td>\n",
       "      <td>14.608125</td>\n",
       "      <td>132.331961</td>\n",
       "    </tr>\n",
       "    <tr>\n",
       "      <td>2</td>\n",
       "      <td>2020-10-01</td>\n",
       "      <td>1</td>\n",
       "      <td>3</td>\n",
       "      <td>F</td>\n",
       "      <td>G</td>\n",
       "      <td>14.608125</td>\n",
       "      <td>1.864779</td>\n",
       "      <td>12.743345</td>\n",
       "    </tr>\n",
       "    <tr>\n",
       "      <td>3</td>\n",
       "      <td>2020-10-01</td>\n",
       "      <td>1</td>\n",
       "      <td>4</td>\n",
       "      <td>G</td>\n",
       "      <td>H</td>\n",
       "      <td>1.864779</td>\n",
       "      <td>0.000000</td>\n",
       "      <td>1.864779</td>\n",
       "    </tr>\n",
       "    <tr>\n",
       "      <td>4</td>\n",
       "      <td>2020-10-01</td>\n",
       "      <td>2</td>\n",
       "      <td>1</td>\n",
       "      <td>T</td>\n",
       "      <td>F</td>\n",
       "      <td>119.332876</td>\n",
       "      <td>23.106897</td>\n",
       "      <td>96.225979</td>\n",
       "    </tr>\n",
       "    <tr>\n",
       "      <td>5</td>\n",
       "      <td>2020-10-01</td>\n",
       "      <td>2</td>\n",
       "      <td>2</td>\n",
       "      <td>F</td>\n",
       "      <td>F</td>\n",
       "      <td>23.106897</td>\n",
       "      <td>13.759329</td>\n",
       "      <td>9.347568</td>\n",
       "    </tr>\n",
       "    <tr>\n",
       "      <td>6</td>\n",
       "      <td>2020-10-01</td>\n",
       "      <td>2</td>\n",
       "      <td>3</td>\n",
       "      <td>F</td>\n",
       "      <td>H</td>\n",
       "      <td>13.759329</td>\n",
       "      <td>0.000000</td>\n",
       "      <td>13.759329</td>\n",
       "    </tr>\n",
       "  </tbody>\n",
       "</table>\n",
       "</div>"
      ],
      "text/plain": [
       "        round hole  stroke lie result    from2pin      to2pin        dist\n",
       "0  2020-10-01    1       1   T      F  365.297857  146.940086  218.357771\n",
       "1  2020-10-01    1       2   F      F  146.940086   14.608125  132.331961\n",
       "2  2020-10-01    1       3   F      G   14.608125    1.864779   12.743345\n",
       "3  2020-10-01    1       4   G      H    1.864779    0.000000    1.864779\n",
       "4  2020-10-01    2       1   T      F  119.332876   23.106897   96.225979\n",
       "5  2020-10-01    2       2   F      F   23.106897   13.759329    9.347568\n",
       "6  2020-10-01    2       3   F      H   13.759329    0.000000   13.759329"
      ]
     },
     "execution_count": 10,
     "metadata": {},
     "output_type": "execute_result"
    }
   ],
   "source": [
    "def calculate_shot_distances(shot_dataframe):\n",
    "    shot_dataframe['from2pin'] = shot_dataframe.apply(dist_to_pin, axis=1)\n",
    "    shot_dataframe['to2pin']   = shot_dataframe.apply(rest_to_pin, axis=1)\n",
    "    shot_dataframe['dist'] = shot_dataframe['from2pin']-shot_dataframe['to2pin']\n",
    "    shot_dataframe = shot_dataframe.drop(columns=['from', 'to', 'pin'])\n",
    "    return shot_dataframe\n",
    "\n",
    "df = calculate_shot_distances(df)\n",
    "df.head(7)"
   ]
  },
  {
   "cell_type": "markdown",
   "metadata": {},
   "source": [
    "Some calculations will rely on the par score for a hole. We extract it from the course meta data."
   ]
  },
  {
   "cell_type": "code",
   "execution_count": 11,
   "metadata": {},
   "outputs": [
    {
     "data": {
      "text/html": [
       "<div>\n",
       "<style scoped>\n",
       "    .dataframe tbody tr th:only-of-type {\n",
       "        vertical-align: middle;\n",
       "    }\n",
       "\n",
       "    .dataframe tbody tr th {\n",
       "        vertical-align: top;\n",
       "    }\n",
       "\n",
       "    .dataframe thead th {\n",
       "        text-align: right;\n",
       "    }\n",
       "</style>\n",
       "<table border=\"1\" class=\"dataframe\">\n",
       "  <thead>\n",
       "    <tr style=\"text-align: right;\">\n",
       "      <th></th>\n",
       "      <th>round</th>\n",
       "      <th>hole</th>\n",
       "      <th>stroke</th>\n",
       "      <th>lie</th>\n",
       "      <th>result</th>\n",
       "      <th>from2pin</th>\n",
       "      <th>to2pin</th>\n",
       "      <th>dist</th>\n",
       "      <th>par</th>\n",
       "    </tr>\n",
       "  </thead>\n",
       "  <tbody>\n",
       "    <tr>\n",
       "      <td>0</td>\n",
       "      <td>2020-10-01</td>\n",
       "      <td>1</td>\n",
       "      <td>1</td>\n",
       "      <td>T</td>\n",
       "      <td>F</td>\n",
       "      <td>365.297857</td>\n",
       "      <td>146.940086</td>\n",
       "      <td>218.357771</td>\n",
       "      <td>4</td>\n",
       "    </tr>\n",
       "    <tr>\n",
       "      <td>1</td>\n",
       "      <td>2020-10-01</td>\n",
       "      <td>1</td>\n",
       "      <td>2</td>\n",
       "      <td>F</td>\n",
       "      <td>F</td>\n",
       "      <td>146.940086</td>\n",
       "      <td>14.608125</td>\n",
       "      <td>132.331961</td>\n",
       "      <td>4</td>\n",
       "    </tr>\n",
       "    <tr>\n",
       "      <td>2</td>\n",
       "      <td>2020-10-01</td>\n",
       "      <td>1</td>\n",
       "      <td>3</td>\n",
       "      <td>F</td>\n",
       "      <td>G</td>\n",
       "      <td>14.608125</td>\n",
       "      <td>1.864779</td>\n",
       "      <td>12.743345</td>\n",
       "      <td>4</td>\n",
       "    </tr>\n",
       "    <tr>\n",
       "      <td>3</td>\n",
       "      <td>2020-10-01</td>\n",
       "      <td>1</td>\n",
       "      <td>4</td>\n",
       "      <td>G</td>\n",
       "      <td>H</td>\n",
       "      <td>1.864779</td>\n",
       "      <td>0.000000</td>\n",
       "      <td>1.864779</td>\n",
       "      <td>4</td>\n",
       "    </tr>\n",
       "    <tr>\n",
       "      <td>4</td>\n",
       "      <td>2020-10-01</td>\n",
       "      <td>2</td>\n",
       "      <td>1</td>\n",
       "      <td>T</td>\n",
       "      <td>F</td>\n",
       "      <td>119.332876</td>\n",
       "      <td>23.106897</td>\n",
       "      <td>96.225979</td>\n",
       "      <td>3</td>\n",
       "    </tr>\n",
       "    <tr>\n",
       "      <td>5</td>\n",
       "      <td>2020-10-01</td>\n",
       "      <td>2</td>\n",
       "      <td>2</td>\n",
       "      <td>F</td>\n",
       "      <td>F</td>\n",
       "      <td>23.106897</td>\n",
       "      <td>13.759329</td>\n",
       "      <td>9.347568</td>\n",
       "      <td>3</td>\n",
       "    </tr>\n",
       "    <tr>\n",
       "      <td>6</td>\n",
       "      <td>2020-10-01</td>\n",
       "      <td>2</td>\n",
       "      <td>3</td>\n",
       "      <td>F</td>\n",
       "      <td>H</td>\n",
       "      <td>13.759329</td>\n",
       "      <td>0.000000</td>\n",
       "      <td>13.759329</td>\n",
       "      <td>3</td>\n",
       "    </tr>\n",
       "  </tbody>\n",
       "</table>\n",
       "</div>"
      ],
      "text/plain": [
       "        round hole  stroke lie result    from2pin      to2pin        dist  par\n",
       "0  2020-10-01    1       1   T      F  365.297857  146.940086  218.357771    4\n",
       "1  2020-10-01    1       2   F      F  146.940086   14.608125  132.331961    4\n",
       "2  2020-10-01    1       3   F      G   14.608125    1.864779   12.743345    4\n",
       "3  2020-10-01    1       4   G      H    1.864779    0.000000    1.864779    4\n",
       "4  2020-10-01    2       1   T      F  119.332876   23.106897   96.225979    3\n",
       "5  2020-10-01    2       2   F      F   23.106897   13.759329    9.347568    3\n",
       "6  2020-10-01    2       3   F      H   13.759329    0.000000   13.759329    3"
      ]
     },
     "execution_count": 11,
     "metadata": {},
     "output_type": "execute_result"
    }
   ],
   "source": [
    "def set_par_for_hole(row):\n",
    "    return par_for_hole(row['hole'])\n",
    "\n",
    "df['par'] = df.apply(set_par_for_hole, axis=1)\n",
    "df.head(7)"
   ]
  },
  {
   "cell_type": "markdown",
   "metadata": {},
   "source": [
    "## Strokes Gained Categories <a name=\"categories\"></a>\n",
    "(<a href=\"#toc\">back to ToC</a>)\n",
    "\n",
    "Statistics about strokes gained are clustered into shot categories.\n",
    "\n",
    "A shot's cluster depends its lie and distance to the pin, e.g. an approach shot 146m from the rough is in category \"*Appr-150_R*\". We need shot categories for the start position of a shot and for the resulting position."
   ]
  },
  {
   "cell_type": "code",
   "execution_count": 12,
   "metadata": {},
   "outputs": [],
   "source": [
    "# row is a dataframe row, distance_col selects either start position or resulting position.\n",
    "# lie is one of H (holed), G (on the green), F (fairway), B (bunker), R (rough), T (tee).\n",
    "def cat_sg(row, distance_col, lie):\n",
    "    d = row[distance_col]\n",
    "    l = row[lie]\n",
    "    cat = \"other\"\n",
    "    if l == \"H\":\n",
    "        cat = \"holed\"\n",
    "    elif l == \"G\":\n",
    "        if d <= 1.2:\n",
    "            cat = \"Putt-1\"\n",
    "        elif d <= 3:\n",
    "            cat = \"Putt-3\"\n",
    "        else:\n",
    "            cat = \"Putt\"\n",
    "    elif l == \"B\":\n",
    "        if d <= 30:\n",
    "            cat = \"Bunker-Green\"\n",
    "        elif d <= 70:\n",
    "            cat = \"Bunker-70\"\n",
    "        elif d <= 70:\n",
    "            cat = \"Bunker-100\"\n",
    "        else:\n",
    "            cat = \"Bunker-150\"\n",
    "    elif l == \"F\" or l == \"R\":\n",
    "        if d <= 20:\n",
    "            cat = \"Short-20\"\n",
    "        elif d <= 40:\n",
    "            cat = \"Short-40_\" + l\n",
    "        elif d <= 70:\n",
    "            cat = \"Appr-70_\" + l\n",
    "        elif d <= 110:\n",
    "            cat = \"Appr-110_\" + l\n",
    "        elif d <= 150:\n",
    "            cat = \"Appr-150_\" + l\n",
    "        elif d <= 180:\n",
    "            cat = \"Appr-180_\" + l\n",
    "        else:\n",
    "            cat = \"Appr-long\"\n",
    "    elif l == \"T\":\n",
    "        if d <= 200:\n",
    "            cat = \"Tee-200\"\n",
    "        else:\n",
    "            cat = \"Tee-400\"\n",
    "            \n",
    "    return cat"
   ]
  },
  {
   "cell_type": "markdown",
   "metadata": {},
   "source": [
    "Now we're ready to fully categorize each shot."
   ]
  },
  {
   "cell_type": "code",
   "execution_count": 13,
   "metadata": {},
   "outputs": [
    {
     "data": {
      "text/html": [
       "<div>\n",
       "<style scoped>\n",
       "    .dataframe tbody tr th:only-of-type {\n",
       "        vertical-align: middle;\n",
       "    }\n",
       "\n",
       "    .dataframe tbody tr th {\n",
       "        vertical-align: top;\n",
       "    }\n",
       "\n",
       "    .dataframe thead th {\n",
       "        text-align: right;\n",
       "    }\n",
       "</style>\n",
       "<table border=\"1\" class=\"dataframe\">\n",
       "  <thead>\n",
       "    <tr style=\"text-align: right;\">\n",
       "      <th></th>\n",
       "      <th>round</th>\n",
       "      <th>hole</th>\n",
       "      <th>stroke</th>\n",
       "      <th>lie</th>\n",
       "      <th>result</th>\n",
       "      <th>from2pin</th>\n",
       "      <th>to2pin</th>\n",
       "      <th>dist</th>\n",
       "      <th>par</th>\n",
       "      <th>sg_cat_from</th>\n",
       "      <th>sg_cat_to</th>\n",
       "    </tr>\n",
       "  </thead>\n",
       "  <tbody>\n",
       "    <tr>\n",
       "      <td>0</td>\n",
       "      <td>2020-10-01</td>\n",
       "      <td>1</td>\n",
       "      <td>1</td>\n",
       "      <td>T</td>\n",
       "      <td>F</td>\n",
       "      <td>365.297857</td>\n",
       "      <td>146.940086</td>\n",
       "      <td>218.357771</td>\n",
       "      <td>4</td>\n",
       "      <td>Tee-400</td>\n",
       "      <td>Appr-150_F</td>\n",
       "    </tr>\n",
       "    <tr>\n",
       "      <td>1</td>\n",
       "      <td>2020-10-01</td>\n",
       "      <td>1</td>\n",
       "      <td>2</td>\n",
       "      <td>F</td>\n",
       "      <td>F</td>\n",
       "      <td>146.940086</td>\n",
       "      <td>14.608125</td>\n",
       "      <td>132.331961</td>\n",
       "      <td>4</td>\n",
       "      <td>Appr-150_F</td>\n",
       "      <td>Short-20</td>\n",
       "    </tr>\n",
       "    <tr>\n",
       "      <td>2</td>\n",
       "      <td>2020-10-01</td>\n",
       "      <td>1</td>\n",
       "      <td>3</td>\n",
       "      <td>F</td>\n",
       "      <td>G</td>\n",
       "      <td>14.608125</td>\n",
       "      <td>1.864779</td>\n",
       "      <td>12.743345</td>\n",
       "      <td>4</td>\n",
       "      <td>Short-20</td>\n",
       "      <td>Putt-3</td>\n",
       "    </tr>\n",
       "    <tr>\n",
       "      <td>3</td>\n",
       "      <td>2020-10-01</td>\n",
       "      <td>1</td>\n",
       "      <td>4</td>\n",
       "      <td>G</td>\n",
       "      <td>H</td>\n",
       "      <td>1.864779</td>\n",
       "      <td>0.000000</td>\n",
       "      <td>1.864779</td>\n",
       "      <td>4</td>\n",
       "      <td>Putt-3</td>\n",
       "      <td>holed</td>\n",
       "    </tr>\n",
       "    <tr>\n",
       "      <td>4</td>\n",
       "      <td>2020-10-01</td>\n",
       "      <td>2</td>\n",
       "      <td>1</td>\n",
       "      <td>T</td>\n",
       "      <td>F</td>\n",
       "      <td>119.332876</td>\n",
       "      <td>23.106897</td>\n",
       "      <td>96.225979</td>\n",
       "      <td>3</td>\n",
       "      <td>Tee-200</td>\n",
       "      <td>Short-40_F</td>\n",
       "    </tr>\n",
       "    <tr>\n",
       "      <td>5</td>\n",
       "      <td>2020-10-01</td>\n",
       "      <td>2</td>\n",
       "      <td>2</td>\n",
       "      <td>F</td>\n",
       "      <td>F</td>\n",
       "      <td>23.106897</td>\n",
       "      <td>13.759329</td>\n",
       "      <td>9.347568</td>\n",
       "      <td>3</td>\n",
       "      <td>Short-40_F</td>\n",
       "      <td>Short-20</td>\n",
       "    </tr>\n",
       "    <tr>\n",
       "      <td>6</td>\n",
       "      <td>2020-10-01</td>\n",
       "      <td>2</td>\n",
       "      <td>3</td>\n",
       "      <td>F</td>\n",
       "      <td>H</td>\n",
       "      <td>13.759329</td>\n",
       "      <td>0.000000</td>\n",
       "      <td>13.759329</td>\n",
       "      <td>3</td>\n",
       "      <td>Short-20</td>\n",
       "      <td>holed</td>\n",
       "    </tr>\n",
       "  </tbody>\n",
       "</table>\n",
       "</div>"
      ],
      "text/plain": [
       "        round hole  stroke lie result    from2pin      to2pin        dist  \\\n",
       "0  2020-10-01    1       1   T      F  365.297857  146.940086  218.357771   \n",
       "1  2020-10-01    1       2   F      F  146.940086   14.608125  132.331961   \n",
       "2  2020-10-01    1       3   F      G   14.608125    1.864779   12.743345   \n",
       "3  2020-10-01    1       4   G      H    1.864779    0.000000    1.864779   \n",
       "4  2020-10-01    2       1   T      F  119.332876   23.106897   96.225979   \n",
       "5  2020-10-01    2       2   F      F   23.106897   13.759329    9.347568   \n",
       "6  2020-10-01    2       3   F      H   13.759329    0.000000   13.759329   \n",
       "\n",
       "   par sg_cat_from   sg_cat_to  \n",
       "0    4     Tee-400  Appr-150_F  \n",
       "1    4  Appr-150_F    Short-20  \n",
       "2    4    Short-20      Putt-3  \n",
       "3    4      Putt-3       holed  \n",
       "4    3     Tee-200  Short-40_F  \n",
       "5    3  Short-40_F    Short-20  \n",
       "6    3    Short-20       holed  "
      ]
     },
     "execution_count": 13,
     "metadata": {},
     "output_type": "execute_result"
    }
   ],
   "source": [
    "df['sg_cat_from'] = df.apply(lambda r: cat_sg(r, 'from2pin', 'lie'), axis=1)\n",
    "df['sg_cat_to']   = df.apply(lambda r: cat_sg(r, 'to2pin', 'result'), axis=1)\n",
    "\n",
    "df.head(7)"
   ]
  },
  {
   "cell_type": "markdown",
   "metadata": {},
   "source": [
    "### Strokes Gained Base Tables <a name=\"basetables\"></a>\n",
    "(<a href=\"#toc\">back to ToC</a>)\n",
    "\n",
    "Strokes gained calculations are based on empirical data, gathered by the PGA Tour via its *Shot Link* programme. Mark Broadie published them in his book, where from the tables below have been extracted."
   ]
  },
  {
   "cell_type": "code",
   "execution_count": 14,
   "metadata": {},
   "outputs": [],
   "source": [
    "# Strokes gained tables for (male) PGA tour pros\n",
    "#sg_table_pros_json = \"\"\"\n",
    "sg_table_pros = {\n",
    "    \"holed\": 0,\n",
    "    \"Putt-1\": 1.04,\n",
    "    \"Putt-3\": 1.42,\n",
    "    \"Putt-10\": 1.87,\n",
    "    \"Putt\": 2.4,\n",
    "    \"Short-20\": 2.6,\n",
    "    \"Short-40_F\": 2.65,\n",
    "    \"Short-40_R\": 2.8,\n",
    "    \"Appr-70_F\": 2.75,\n",
    "    \"Appr-70_R\": 2.96,\n",
    "    \"Appr-110_F\": 2.85,\n",
    "    \"Appr-110_R\": 3.08,\n",
    "    \"Appr-150_F\": 2.98,\n",
    "    \"Appr-150_R\": 3.23,\n",
    "    \"Appr-180_F\": 3.19,\n",
    "    \"Appr-180_R\": 3.42,\n",
    "    \"Appr-long\": 3.6,\n",
    "    \"Bunker-Green\": 2.82,\n",
    "    \"Bunker-70\": 3.2,\n",
    "    \"Bunker-110\": 3.25,\n",
    "    \"Bunker-150\": 3.3,\n",
    "    \"Tee-200\": 3.17,\n",
    "    \"Tee-400\": 4.08\n",
    "}\n",
    "#\"\"\"\n",
    "#sg_table_pros = json.loads(sg_table_pros_json)"
   ]
  },
  {
   "cell_type": "code",
   "execution_count": 70,
   "metadata": {},
   "outputs": [],
   "source": [
    "# Derived strokes gained tables for 18 handicaps\n",
    "#sg18_table_json = \"\"\"\n",
    "sg18_table = {\n",
    "    \"holed\": 0,\n",
    "    \"Putt-1\": 1.1,\n",
    "    \"Putt-3\": 1.8,\n",
    "    \"Putt-10\": 2.19,\n",
    "    \"Putt\": 2.65,\n",
    "    \"Short-20\": 2.75,\n",
    "    \"Short-40_F\": 2.9,\n",
    "    \"Short-40_R\": 3,\n",
    "    \"Appr-70_F\": 3,\n",
    "    \"Appr-70_R\": 3.17,\n",
    "    \"Appr-110_F\": 3.15,\n",
    "    \"Appr-110_R\": 3.31,\n",
    "    \"Appr-150_F\": 3.34,\n",
    "    \"Appr-150_R\": 3.44,\n",
    "    \"Appr-180_F\": 3.58,\n",
    "    \"Appr-180_R\": 3.71,\n",
    "    \"Appr-long\": 3.89,\n",
    "    \"Bunker-Green\": 3.15,\n",
    "    \"Bunker-70\": 3.41,\n",
    "    \"Bunker-110\": 3.48,\n",
    "    \"Bunker-150\": 3.51,\n",
    "    \"Tee-200\": 3.9,\n",
    "    \"Tee-400\": 5.2\n",
    "}\n",
    "#\"\"\"\n",
    "#sg18_table = json.loads(sg18_table_json)\n",
    "\n",
    "#def sg(row):\n",
    "#    sg_f = sg18_table[row['sg_cat_from']]\n",
    "#    sg_t = sg18_table[row['sg_cat_to']]\n",
    "#    return sg_f - sg_t - 1\n",
    "\n",
    "#df['sg'] = df.apply(sg, axis=1)\n"
   ]
  },
  {
   "cell_type": "markdown",
   "metadata": {},
   "source": [
    "For bookkeeping and UI-output we declare a natural order for shot categories."
   ]
  },
  {
   "cell_type": "code",
   "execution_count": 64,
   "metadata": {},
   "outputs": [
    {
     "name": "stdout",
     "output_type": "stream",
     "text": [
      "10\n"
     ]
    }
   ],
   "source": [
    "#sg_target_sort = \"\"\"\n",
    "sg_sort = {\n",
    "    \"holed\": 0,\n",
    "    \"Putt-1\": 1,\n",
    "    \"Putt-3\": 2,\n",
    "    \"Putt-10\": 3,\n",
    "    \"Putt\": 4,\n",
    "    \"Short-20\": 5,\n",
    "    \"Short-40_F\": 6,\n",
    "    \"Short-40_R\": 7,\n",
    "    \"Appr-70_F\": 8,\n",
    "    \"Appr-110_F\": 9,\n",
    "    \"Appr-150_F\": 10,\n",
    "    \"Appr-180_F\": 11,\n",
    "    \"Appr-70_R\": 12,\n",
    "    \"Appr-110_R\": 13,\n",
    "    \"Appr-150_R\": 14,\n",
    "    \"Appr-180_R\": 15,\n",
    "    \"Appr-long\": 16,\n",
    "    \"Bunker-Green\": 17,\n",
    "    \"Bunker-70\": 18,\n",
    "    \"Bunker-110\": 19,\n",
    "    \"Bunker-150\": 20,\n",
    "    \"Tee-200\": 21,\n",
    "    \"Tee-400\": 22\n",
    "}\n",
    "#\"\"\"\n",
    "#sg_sort = json.loads(sg_target_sort)\n",
    "\n",
    "def sg_cat_key(elem):\n",
    "    return sg_sort[elem[0]]\n",
    "\n",
    "print(sg_cat_key(('Appr-150_F', 0)))"
   ]
  },
  {
   "cell_type": "code",
   "execution_count": 65,
   "metadata": {},
   "outputs": [],
   "source": [
    "#sg_official_name = \"\"\"\n",
    "sg_official = {\n",
    "    \"holed\": \"\",\n",
    "    \"Putt-1\": \"Putt ≤ 1m\",\n",
    "    \"Putt-3\": \"Putt ≤ 3m\",\n",
    "    \"Putt-10\": \"Putt ≤ 10m\",\n",
    "    \"Putt\": \"Distance Putt\",\n",
    "    \"Short-20\": \"Around Green ≤ 20m\",\n",
    "    \"Short-40_F\": \"Around Green ≤ 40m\",\n",
    "    \"Short-40_R\": \"Around Green ≤ 40m from Rough\",\n",
    "    \"Appr-70_F\": \"Approach ≤ 70m from Fairway\",\n",
    "    \"Appr-110_F\": \"Approach ≤ 110m from Fairway\",\n",
    "    \"Appr-150_F\": \"Approach ≤ 150m from Fairway\",\n",
    "    \"Appr-180_F\": \"Approach ≤ 180m from Fairway\",\n",
    "    \"Appr-70_R\": \"Approach ≤ 70m from Rough\",\n",
    "    \"Appr-110_R\": \"Approach ≤ 110m from Rough\",\n",
    "    \"Appr-150_R\": \"Approach ≤ 150m from Rough\",\n",
    "    \"Appr-180_R\": \"Approach ≤ 180m from Rough\",\n",
    "    \"Appr-long\": \"Long Approach\",\n",
    "    \"Bunker-Green\": \"Greenside Bunker\",\n",
    "    \"Bunker-70\": \"Long Bunker Shot\",\n",
    "    \"Bunker-110\": \"Short Fairway Bunker Shot\",\n",
    "    \"Bunker-150\": \"Long Fairway Bunker Shot\",\n",
    "    \"Tee-200\": \"\",\n",
    "    \"Tee-400\": \"Tee Shot\"\n",
    "}\n",
    "#\"\"\"\n",
    "#sg_official = json.loads(sg_official_name)"
   ]
  },
  {
   "cell_type": "markdown",
   "metadata": {},
   "source": [
    "There will be situations where we need an ordered list/tuple of shot categories. This function will prepare one."
   ]
  },
  {
   "cell_type": "code",
   "execution_count": 66,
   "metadata": {},
   "outputs": [],
   "source": [
    "#def sg_cat_inx(elem):\n",
    "#    return sg_sort[elem[1]]\n",
    "\n",
    "# Return a tuple of names and a tuple of sequence numbers\n",
    "def make_category_index():\n",
    "    order = sorted(sg_sort.items(), key=sg_cat_key)\n",
    "    cat_names_ordered, cat_index = zip(*order)\n",
    "    return cat_names_ordered, cat_index\n",
    "\n",
    "#make_category_index()[0]  # show the names tuple"
   ]
  },
  {
   "cell_type": "markdown",
   "metadata": {},
   "source": [
    "### Strokes Gained Metrics <a name=\"metrics\"></a>\n",
    "(<a href=\"#toc\">back to ToC</a>)\n",
    "\n",
    "For easier handling we load the strokes gained base metrics into a data frame as well."
   ]
  },
  {
   "cell_type": "code",
   "execution_count": 67,
   "metadata": {},
   "outputs": [],
   "source": [
    "# Get pro's and am's strokes-gained data ordered\n",
    "def extract_pro_and_am_strokes_gained():\n",
    "    pro_data_tuples = sorted(sg_table_pros.items(), key=sg_cat_key)\n",
    "    _, pro_strokes_gained_list = zip(*pro_data_tuples) # unpack a list of pairs into two tuples\n",
    "    am_data_tuples = sorted(sg18_table.items(), key=sg_cat_key)\n",
    "    _, am_strokes_gained_list = zip(*am_data_tuples)\n",
    "    return pro_strokes_gained_list, am_strokes_gained_list\n",
    "\n",
    "\n",
    "#extract_pro_and_am_strokes_gained()"
   ]
  },
  {
   "cell_type": "markdown",
   "metadata": {
    "scrolled": true
   },
   "source": [
    "With ordered data points at hand, now we're able to pull the strokes-gained baseline data as a data frame."
   ]
  },
  {
   "cell_type": "code",
   "execution_count": 68,
   "metadata": {},
   "outputs": [
    {
     "data": {
      "text/html": [
       "<div>\n",
       "<style scoped>\n",
       "    .dataframe tbody tr th:only-of-type {\n",
       "        vertical-align: middle;\n",
       "    }\n",
       "\n",
       "    .dataframe tbody tr th {\n",
       "        vertical-align: top;\n",
       "    }\n",
       "\n",
       "    .dataframe thead th {\n",
       "        text-align: right;\n",
       "    }\n",
       "</style>\n",
       "<table border=\"1\" class=\"dataframe\">\n",
       "  <thead>\n",
       "    <tr style=\"text-align: right;\">\n",
       "      <th></th>\n",
       "      <th>Seq</th>\n",
       "      <th>Pro</th>\n",
       "      <th>Am18</th>\n",
       "    </tr>\n",
       "    <tr>\n",
       "      <th>Category</th>\n",
       "      <th></th>\n",
       "      <th></th>\n",
       "      <th></th>\n",
       "    </tr>\n",
       "  </thead>\n",
       "  <tbody>\n",
       "    <tr>\n",
       "      <td>holed</td>\n",
       "      <td>0</td>\n",
       "      <td>0.00</td>\n",
       "      <td>0.00</td>\n",
       "    </tr>\n",
       "    <tr>\n",
       "      <td>Putt-1</td>\n",
       "      <td>1</td>\n",
       "      <td>1.04</td>\n",
       "      <td>1.10</td>\n",
       "    </tr>\n",
       "    <tr>\n",
       "      <td>Putt-3</td>\n",
       "      <td>2</td>\n",
       "      <td>1.42</td>\n",
       "      <td>1.80</td>\n",
       "    </tr>\n",
       "    <tr>\n",
       "      <td>Putt-10</td>\n",
       "      <td>3</td>\n",
       "      <td>1.87</td>\n",
       "      <td>2.19</td>\n",
       "    </tr>\n",
       "    <tr>\n",
       "      <td>Putt</td>\n",
       "      <td>4</td>\n",
       "      <td>2.40</td>\n",
       "      <td>2.65</td>\n",
       "    </tr>\n",
       "  </tbody>\n",
       "</table>\n",
       "</div>"
      ],
      "text/plain": [
       "          Seq   Pro  Am18\n",
       "Category                 \n",
       "holed       0  0.00  0.00\n",
       "Putt-1      1  1.04  1.10\n",
       "Putt-3      2  1.42  1.80\n",
       "Putt-10     3  1.87  2.19\n",
       "Putt        4  2.40  2.65"
      ]
     },
     "execution_count": 68,
     "metadata": {},
     "output_type": "execute_result"
    }
   ],
   "source": [
    "def get_strokes_gained_base_data_frame():\n",
    "    pro_strokes_gained_list, am_strokes_gained_list = extract_pro_and_am_strokes_gained()\n",
    "    pros = pd.Series(pro_strokes_gained_list)\n",
    "    ams = pd.Series(am_strokes_gained_list)\n",
    "    cats, inx = make_category_index()\n",
    "    #cats = pd.Series(pro_x)\n",
    "    sgdf = pd.DataFrame({\n",
    "    'Category': cats,\n",
    "    'Seq': inx,\n",
    "    'Pro': pros,\n",
    "    'Am18': ams\n",
    "    }).set_index('Category')\n",
    "    return sgdf\n",
    "\n",
    "\n",
    "sgdf = get_strokes_gained_base_data_frame()\n",
    "sgdf.head()"
   ]
  },
  {
   "cell_type": "markdown",
   "metadata": {},
   "source": [
    "Let's take a quick detour and visualize the strokes gained base tables and discuss implications."
   ]
  },
  {
   "cell_type": "code",
   "execution_count": 69,
   "metadata": {
    "scrolled": true
   },
   "outputs": [
    {
     "data": {
      "text/plain": [
       "<matplotlib.axes._subplots.AxesSubplot at 0x7faf5a19df50>"
      ]
     },
     "execution_count": 69,
     "metadata": {},
     "output_type": "execute_result"
    },
    {
     "data": {
      "image/png": "[encoded data removed]",
      "text/plain": [
       "<Figure size 360x216 with 1 Axes>"
      ]
     },
     "metadata": {
      "needs_background": "light"
     },
     "output_type": "display_data"
    }
   ],
   "source": [
    "cats, inx = make_category_index()\n",
    "p = sgdf.plot.line(y=['Pro', 'Am18'], grid=True, rot=90, xticks=inx, figsize=(5,3))\n",
    "p.set_xticklabels(cats);\n",
    "\n",
    "p"
   ]
  },
  {
   "cell_type": "markdown",
   "metadata": {},
   "source": [
    "The gap between the two lines visualizes the proficiency difference between a PGA tour pro and a 18-handicap. The values for the 18-hcp are a result of some educated guesswork and measuring my own performance (as an 18-hcp).\n",
    "\n",
    "For different handicaps, our task will be to interpolate between (or extrapolate) the two curves. Let's define an interpolations function as a helper."
   ]
  },
  {
   "cell_type": "code",
   "execution_count": 22,
   "metadata": {
    "scrolled": true
   },
   "outputs": [
    {
     "name": "stdout",
     "output_type": "stream",
     "text": [
      "1/3[1,2] = 1.33\n"
     ]
    }
   ],
   "source": [
    "def interp(f, intv):\n",
    "    return f*(intv[1]-intv[0])+intv[0]\n",
    "\n",
    "print(\"1/3[1,2] = %.2f\" % interp(1/3, (1, 2)))"
   ]
  },
  {
   "cell_type": "markdown",
   "metadata": {},
   "source": [
    "Now we're able to calculate a strokes-gained target for a given category and handicap."
   ]
  },
  {
   "cell_type": "code",
   "execution_count": 23,
   "metadata": {},
   "outputs": [
    {
     "name": "stdout",
     "output_type": "stream",
     "text": [
      "Hcp 18 target for short game      = 2.75\n",
      "Hcp 10 target for long approaches = 3.76\n"
     ]
    }
   ],
   "source": [
    "def hcp_sg(hcp, cat):\n",
    "    cat_row = sgdf.loc[cat]\n",
    "    sg = interp(hcp/18, (cat_row['Pro'], cat_row['Am18']))\n",
    "    #print(cat_row)\n",
    "    return sg\n",
    "\n",
    "print(\"Hcp 18 target for short game      = %.2f\" % hcp_sg(18, 'Short-20'))\n",
    "print(\"Hcp 10 target for long approaches = %.2f\" % hcp_sg(10, 'Appr-long'))"
   ]
  },
  {
   "cell_type": "markdown",
   "metadata": {},
   "source": [
    "Tee-shots are only slightly more complicated."
   ]
  },
  {
   "cell_type": "code",
   "execution_count": 24,
   "metadata": {},
   "outputs": [],
   "source": [
    "def teeshot_sg(hcp, distance):\n",
    "    t200 = hcp_sg(hcp, 'Tee-200')\n",
    "    t400 = hcp_sg(hcp, 'Tee-400')\n",
    "    #print(\"%.2f / %.2f\" % (t200, t400))\n",
    "    return interp((distance-200)/200, (t200, t400))\n",
    "\n",
    "#print(teeshot_sg(0, 400))\n",
    "#print(teeshot_sg(0, 300))\n",
    "#print(teeshot_sg(18, 400))\n",
    "#print(teeshot_sg(18, 366))"
   ]
  },
  {
   "cell_type": "markdown",
   "metadata": {},
   "source": [
    "Now we include columns for SG-0 and SG-18 in our data frame."
   ]
  },
  {
   "cell_type": "code",
   "execution_count": 25,
   "metadata": {
    "scrolled": true
   },
   "outputs": [
    {
     "data": {
      "text/html": [
       "<div>\n",
       "<style scoped>\n",
       "    .dataframe tbody tr th:only-of-type {\n",
       "        vertical-align: middle;\n",
       "    }\n",
       "\n",
       "    .dataframe tbody tr th {\n",
       "        vertical-align: top;\n",
       "    }\n",
       "\n",
       "    .dataframe thead th {\n",
       "        text-align: right;\n",
       "    }\n",
       "</style>\n",
       "<table border=\"1\" class=\"dataframe\">\n",
       "  <thead>\n",
       "    <tr style=\"text-align: right;\">\n",
       "      <th></th>\n",
       "      <th>round</th>\n",
       "      <th>hole</th>\n",
       "      <th>stroke</th>\n",
       "      <th>lie</th>\n",
       "      <th>result</th>\n",
       "      <th>from2pin</th>\n",
       "      <th>to2pin</th>\n",
       "      <th>dist</th>\n",
       "      <th>par</th>\n",
       "      <th>sg_cat_from</th>\n",
       "      <th>sg_cat_to</th>\n",
       "      <th>SG-0</th>\n",
       "      <th>SG-18</th>\n",
       "    </tr>\n",
       "  </thead>\n",
       "  <tbody>\n",
       "    <tr>\n",
       "      <td>0</td>\n",
       "      <td>2020-10-01</td>\n",
       "      <td>1</td>\n",
       "      <td>1</td>\n",
       "      <td>T</td>\n",
       "      <td>F</td>\n",
       "      <td>365.297857</td>\n",
       "      <td>146.940086</td>\n",
       "      <td>218.357771</td>\n",
       "      <td>4</td>\n",
       "      <td>Tee-400</td>\n",
       "      <td>Appr-150_F</td>\n",
       "      <td>-0.057895</td>\n",
       "      <td>0.634436</td>\n",
       "    </tr>\n",
       "    <tr>\n",
       "      <td>1</td>\n",
       "      <td>2020-10-01</td>\n",
       "      <td>1</td>\n",
       "      <td>2</td>\n",
       "      <td>F</td>\n",
       "      <td>F</td>\n",
       "      <td>146.940086</td>\n",
       "      <td>14.608125</td>\n",
       "      <td>132.331961</td>\n",
       "      <td>4</td>\n",
       "      <td>Appr-150_F</td>\n",
       "      <td>Short-20</td>\n",
       "      <td>-0.620000</td>\n",
       "      <td>-0.410000</td>\n",
       "    </tr>\n",
       "    <tr>\n",
       "      <td>2</td>\n",
       "      <td>2020-10-01</td>\n",
       "      <td>1</td>\n",
       "      <td>3</td>\n",
       "      <td>F</td>\n",
       "      <td>G</td>\n",
       "      <td>14.608125</td>\n",
       "      <td>1.864779</td>\n",
       "      <td>12.743345</td>\n",
       "      <td>4</td>\n",
       "      <td>Short-20</td>\n",
       "      <td>Putt-3</td>\n",
       "      <td>0.180000</td>\n",
       "      <td>-0.050000</td>\n",
       "    </tr>\n",
       "    <tr>\n",
       "      <td>3</td>\n",
       "      <td>2020-10-01</td>\n",
       "      <td>1</td>\n",
       "      <td>4</td>\n",
       "      <td>G</td>\n",
       "      <td>H</td>\n",
       "      <td>1.864779</td>\n",
       "      <td>0.000000</td>\n",
       "      <td>1.864779</td>\n",
       "      <td>4</td>\n",
       "      <td>Putt-3</td>\n",
       "      <td>holed</td>\n",
       "      <td>0.420000</td>\n",
       "      <td>0.800000</td>\n",
       "    </tr>\n",
       "    <tr>\n",
       "      <td>4</td>\n",
       "      <td>2020-10-01</td>\n",
       "      <td>2</td>\n",
       "      <td>1</td>\n",
       "      <td>T</td>\n",
       "      <td>F</td>\n",
       "      <td>119.332876</td>\n",
       "      <td>23.106897</td>\n",
       "      <td>96.225979</td>\n",
       "      <td>3</td>\n",
       "      <td>Tee-200</td>\n",
       "      <td>Short-40_F</td>\n",
       "      <td>-0.480000</td>\n",
       "      <td>0.000000</td>\n",
       "    </tr>\n",
       "  </tbody>\n",
       "</table>\n",
       "</div>"
      ],
      "text/plain": [
       "        round hole  stroke lie result    from2pin      to2pin        dist  \\\n",
       "0  2020-10-01    1       1   T      F  365.297857  146.940086  218.357771   \n",
       "1  2020-10-01    1       2   F      F  146.940086   14.608125  132.331961   \n",
       "2  2020-10-01    1       3   F      G   14.608125    1.864779   12.743345   \n",
       "3  2020-10-01    1       4   G      H    1.864779    0.000000    1.864779   \n",
       "4  2020-10-01    2       1   T      F  119.332876   23.106897   96.225979   \n",
       "\n",
       "   par sg_cat_from   sg_cat_to      SG-0     SG-18  \n",
       "0    4     Tee-400  Appr-150_F -0.057895  0.634436  \n",
       "1    4  Appr-150_F    Short-20 -0.620000 -0.410000  \n",
       "2    4    Short-20      Putt-3  0.180000 -0.050000  \n",
       "3    4      Putt-3       holed  0.420000  0.800000  \n",
       "4    3     Tee-200  Short-40_F -0.480000  0.000000  "
      ]
     },
     "execution_count": 25,
     "metadata": {},
     "output_type": "execute_result"
    }
   ],
   "source": [
    "def insert_SG_for_hcps(hcp, df):\n",
    "    def local_sg(row):\n",
    "        cat = row['sg_cat_from']\n",
    "        mysg = hcp_sg(hcp, cat)\n",
    "        if cat == 'tee-200' or cat == 'Tee-400':\n",
    "            #print(\"interpolating SG for tee shot\")\n",
    "            mysg = teeshot_sg(hcp, row['from2pin'])\n",
    "        #print(\"my sg = %.2f\" % mysg)\n",
    "        result_sg = hcp_sg(hcp, row['sg_cat_to'])\n",
    "        #print(\"-> sg = %.2f\" % result_sg)\n",
    "        return mysg - result_sg - 1\n",
    "    \n",
    "    df['SG-'+str(hcp)] = df.apply(local_sg, axis=1)\n",
    "    #return local_sg(row)\n",
    "    return df\n",
    "\n",
    "#print(df.iloc[0])\n",
    "#print(\"\\nstrokes gained for tee shot = %.2f\" % sg_for_hcp(12, df.iloc[0]))\n",
    "\n",
    "df = insert_SG_for_hcps(0, df)\n",
    "df = insert_SG_for_hcps(18, df)\n",
    "df.head()"
   ]
  },
  {
   "cell_type": "markdown",
   "metadata": {},
   "source": [
    "Finally, we need to fix one small thing: For analytical purposes tee-shots for par-3s fall into shot categories of approach shots from the fairway."
   ]
  },
  {
   "cell_type": "code",
   "execution_count": 26,
   "metadata": {
    "scrolled": true
   },
   "outputs": [
    {
     "name": "stdout",
     "output_type": "stream",
     "text": [
      "Appr-150_F\n"
     ]
    },
    {
     "data": {
      "text/html": [
       "<div>\n",
       "<style scoped>\n",
       "    .dataframe tbody tr th:only-of-type {\n",
       "        vertical-align: middle;\n",
       "    }\n",
       "\n",
       "    .dataframe tbody tr th {\n",
       "        vertical-align: top;\n",
       "    }\n",
       "\n",
       "    .dataframe thead th {\n",
       "        text-align: right;\n",
       "    }\n",
       "</style>\n",
       "<table border=\"1\" class=\"dataframe\">\n",
       "  <thead>\n",
       "    <tr style=\"text-align: right;\">\n",
       "      <th></th>\n",
       "      <th>round</th>\n",
       "      <th>hole</th>\n",
       "      <th>stroke</th>\n",
       "      <th>lie</th>\n",
       "      <th>result</th>\n",
       "      <th>from2pin</th>\n",
       "      <th>to2pin</th>\n",
       "      <th>dist</th>\n",
       "      <th>par</th>\n",
       "      <th>sg_cat_from</th>\n",
       "      <th>sg_cat_to</th>\n",
       "      <th>SG-0</th>\n",
       "      <th>SG-18</th>\n",
       "      <th>sg_category</th>\n",
       "    </tr>\n",
       "  </thead>\n",
       "  <tbody>\n",
       "    <tr>\n",
       "      <td>0</td>\n",
       "      <td>2020-10-01</td>\n",
       "      <td>1</td>\n",
       "      <td>1</td>\n",
       "      <td>T</td>\n",
       "      <td>F</td>\n",
       "      <td>365.297857</td>\n",
       "      <td>146.940086</td>\n",
       "      <td>218.357771</td>\n",
       "      <td>4</td>\n",
       "      <td>Tee-400</td>\n",
       "      <td>Appr-150_F</td>\n",
       "      <td>-0.057895</td>\n",
       "      <td>0.634436</td>\n",
       "      <td>Tee-400</td>\n",
       "    </tr>\n",
       "    <tr>\n",
       "      <td>1</td>\n",
       "      <td>2020-10-01</td>\n",
       "      <td>1</td>\n",
       "      <td>2</td>\n",
       "      <td>F</td>\n",
       "      <td>F</td>\n",
       "      <td>146.940086</td>\n",
       "      <td>14.608125</td>\n",
       "      <td>132.331961</td>\n",
       "      <td>4</td>\n",
       "      <td>Appr-150_F</td>\n",
       "      <td>Short-20</td>\n",
       "      <td>-0.620000</td>\n",
       "      <td>-0.410000</td>\n",
       "      <td>Appr-150_F</td>\n",
       "    </tr>\n",
       "    <tr>\n",
       "      <td>2</td>\n",
       "      <td>2020-10-01</td>\n",
       "      <td>1</td>\n",
       "      <td>3</td>\n",
       "      <td>F</td>\n",
       "      <td>G</td>\n",
       "      <td>14.608125</td>\n",
       "      <td>1.864779</td>\n",
       "      <td>12.743345</td>\n",
       "      <td>4</td>\n",
       "      <td>Short-20</td>\n",
       "      <td>Putt-3</td>\n",
       "      <td>0.180000</td>\n",
       "      <td>-0.050000</td>\n",
       "      <td>Short-20</td>\n",
       "    </tr>\n",
       "    <tr>\n",
       "      <td>3</td>\n",
       "      <td>2020-10-01</td>\n",
       "      <td>1</td>\n",
       "      <td>4</td>\n",
       "      <td>G</td>\n",
       "      <td>H</td>\n",
       "      <td>1.864779</td>\n",
       "      <td>0.000000</td>\n",
       "      <td>1.864779</td>\n",
       "      <td>4</td>\n",
       "      <td>Putt-3</td>\n",
       "      <td>holed</td>\n",
       "      <td>0.420000</td>\n",
       "      <td>0.800000</td>\n",
       "      <td>Putt-3</td>\n",
       "    </tr>\n",
       "    <tr>\n",
       "      <td>4</td>\n",
       "      <td>2020-10-01</td>\n",
       "      <td>2</td>\n",
       "      <td>1</td>\n",
       "      <td>T</td>\n",
       "      <td>F</td>\n",
       "      <td>119.332876</td>\n",
       "      <td>23.106897</td>\n",
       "      <td>96.225979</td>\n",
       "      <td>3</td>\n",
       "      <td>Tee-200</td>\n",
       "      <td>Short-40_F</td>\n",
       "      <td>-0.480000</td>\n",
       "      <td>0.000000</td>\n",
       "      <td>Appr-150_F</td>\n",
       "    </tr>\n",
       "  </tbody>\n",
       "</table>\n",
       "</div>"
      ],
      "text/plain": [
       "        round hole  stroke lie result    from2pin      to2pin        dist  \\\n",
       "0  2020-10-01    1       1   T      F  365.297857  146.940086  218.357771   \n",
       "1  2020-10-01    1       2   F      F  146.940086   14.608125  132.331961   \n",
       "2  2020-10-01    1       3   F      G   14.608125    1.864779   12.743345   \n",
       "3  2020-10-01    1       4   G      H    1.864779    0.000000    1.864779   \n",
       "4  2020-10-01    2       1   T      F  119.332876   23.106897   96.225979   \n",
       "\n",
       "   par sg_cat_from   sg_cat_to      SG-0     SG-18 sg_category  \n",
       "0    4     Tee-400  Appr-150_F -0.057895  0.634436     Tee-400  \n",
       "1    4  Appr-150_F    Short-20 -0.620000 -0.410000  Appr-150_F  \n",
       "2    4    Short-20      Putt-3  0.180000 -0.050000    Short-20  \n",
       "3    4      Putt-3       holed  0.420000  0.800000      Putt-3  \n",
       "4    3     Tee-200  Short-40_F -0.480000  0.000000  Appr-150_F  "
      ]
     },
     "execution_count": 26,
     "metadata": {},
     "output_type": "execute_result"
    }
   ],
   "source": [
    "def fix_teeshot_cat(row):\n",
    "    cat_from = row['sg_cat_from']\n",
    "    if row['lie'] == \"T\" and row['par'] == 3:\n",
    "        row['lie'] = \"F\"\n",
    "        cat_from = cat_sg(row, 'from2pin', 'lie')\n",
    "        print(cat_from)\n",
    "    return cat_from\n",
    "\n",
    "\n",
    "df['sg_category'] = df.apply(fix_teeshot_cat, axis=1)\n",
    "df.head()"
   ]
  },
  {
   "cell_type": "markdown",
   "metadata": {},
   "source": [
    "## Preparing Summaries <a name=\"summaries\"></a>\n",
    "(<a href=\"#toc\">back to ToC</a>)\n",
    "\n",
    "Taking a look at individual shots is great, but users need summary information on what to work on with their game.\n",
    "\n"
   ]
  },
  {
   "cell_type": "markdown",
   "metadata": {},
   "source": [
    "### Per Category Summaries <a name=\"catsummaries\"></a>\n",
    "(<a href=\"#toc\">back to ToC</a>)\n",
    "\n",
    "First we extract a condensed data frame."
   ]
  },
  {
   "cell_type": "code",
   "execution_count": 27,
   "metadata": {
    "scrolled": true
   },
   "outputs": [
    {
     "data": {
      "text/html": [
       "<div>\n",
       "<style scoped>\n",
       "    .dataframe tbody tr th:only-of-type {\n",
       "        vertical-align: middle;\n",
       "    }\n",
       "\n",
       "    .dataframe tbody tr th {\n",
       "        vertical-align: top;\n",
       "    }\n",
       "\n",
       "    .dataframe thead th {\n",
       "        text-align: right;\n",
       "    }\n",
       "</style>\n",
       "<table border=\"1\" class=\"dataframe\">\n",
       "  <thead>\n",
       "    <tr style=\"text-align: right;\">\n",
       "      <th></th>\n",
       "      <th>sg_category</th>\n",
       "      <th>SG-0</th>\n",
       "      <th>SG-18</th>\n",
       "    </tr>\n",
       "  </thead>\n",
       "  <tbody>\n",
       "    <tr>\n",
       "      <td>0</td>\n",
       "      <td>Tee-400</td>\n",
       "      <td>-0.057895</td>\n",
       "      <td>0.634436</td>\n",
       "    </tr>\n",
       "    <tr>\n",
       "      <td>1</td>\n",
       "      <td>Appr-150_F</td>\n",
       "      <td>-0.620000</td>\n",
       "      <td>-0.410000</td>\n",
       "    </tr>\n",
       "    <tr>\n",
       "      <td>2</td>\n",
       "      <td>Short-20</td>\n",
       "      <td>0.180000</td>\n",
       "      <td>-0.050000</td>\n",
       "    </tr>\n",
       "    <tr>\n",
       "      <td>3</td>\n",
       "      <td>Putt-3</td>\n",
       "      <td>0.420000</td>\n",
       "      <td>0.800000</td>\n",
       "    </tr>\n",
       "    <tr>\n",
       "      <td>4</td>\n",
       "      <td>Appr-150_F</td>\n",
       "      <td>-0.480000</td>\n",
       "      <td>0.000000</td>\n",
       "    </tr>\n",
       "  </tbody>\n",
       "</table>\n",
       "</div>"
      ],
      "text/plain": [
       "  sg_category      SG-0     SG-18\n",
       "0     Tee-400 -0.057895  0.634436\n",
       "1  Appr-150_F -0.620000 -0.410000\n",
       "2    Short-20  0.180000 -0.050000\n",
       "3      Putt-3  0.420000  0.800000\n",
       "4  Appr-150_F -0.480000  0.000000"
      ]
     },
     "execution_count": 27,
     "metadata": {},
     "output_type": "execute_result"
    }
   ],
   "source": [
    "dfx = df[['sg_category', 'SG-0', 'SG-18']]\n",
    "dfx.head()"
   ]
  },
  {
   "cell_type": "markdown",
   "metadata": {},
   "source": [
    "The first statistic of interest will be the mean SG-value for every shot category. *pivot_table*( ) uses mean-aggregation by default. "
   ]
  },
  {
   "cell_type": "code",
   "execution_count": 28,
   "metadata": {
    "scrolled": true
   },
   "outputs": [
    {
     "data": {
      "text/html": [
       "<div>\n",
       "<style scoped>\n",
       "    .dataframe tbody tr th:only-of-type {\n",
       "        vertical-align: middle;\n",
       "    }\n",
       "\n",
       "    .dataframe tbody tr th {\n",
       "        vertical-align: top;\n",
       "    }\n",
       "\n",
       "    .dataframe thead th {\n",
       "        text-align: right;\n",
       "    }\n",
       "</style>\n",
       "<table border=\"1\" class=\"dataframe\">\n",
       "  <thead>\n",
       "    <tr style=\"text-align: right;\">\n",
       "      <th></th>\n",
       "      <th>SG-0</th>\n",
       "      <th>SG-18</th>\n",
       "    </tr>\n",
       "    <tr>\n",
       "      <th>sg_category</th>\n",
       "      <th></th>\n",
       "      <th></th>\n",
       "    </tr>\n",
       "  </thead>\n",
       "  <tbody>\n",
       "    <tr>\n",
       "      <td>Appr-150_F</td>\n",
       "      <td>-0.550000</td>\n",
       "      <td>-0.205000</td>\n",
       "    </tr>\n",
       "    <tr>\n",
       "      <td>Putt-3</td>\n",
       "      <td>0.420000</td>\n",
       "      <td>0.800000</td>\n",
       "    </tr>\n",
       "    <tr>\n",
       "      <td>Short-20</td>\n",
       "      <td>0.890000</td>\n",
       "      <td>0.850000</td>\n",
       "    </tr>\n",
       "    <tr>\n",
       "      <td>Short-40_F</td>\n",
       "      <td>-0.950000</td>\n",
       "      <td>-0.850000</td>\n",
       "    </tr>\n",
       "    <tr>\n",
       "      <td>Tee-400</td>\n",
       "      <td>-0.057895</td>\n",
       "      <td>0.634436</td>\n",
       "    </tr>\n",
       "  </tbody>\n",
       "</table>\n",
       "</div>"
      ],
      "text/plain": [
       "                 SG-0     SG-18\n",
       "sg_category                    \n",
       "Appr-150_F  -0.550000 -0.205000\n",
       "Putt-3       0.420000  0.800000\n",
       "Short-20     0.890000  0.850000\n",
       "Short-40_F  -0.950000 -0.850000\n",
       "Tee-400     -0.057895  0.634436"
      ]
     },
     "execution_count": 28,
     "metadata": {},
     "output_type": "execute_result"
    }
   ],
   "source": [
    "# https://pandas.pydata.org/pandas-docs/stable/user_guide/reshaping.html\n",
    "\n",
    "#df_sg_means = dfx.pivot(columns='sg_category', values=['SG-0', 'SG-18']).mean()\n",
    "df_sg_means = pd.pivot_table(dfx, index='sg_category')\n",
    "\n",
    "df_sg_means.head()"
   ]
  },
  {
   "cell_type": "code",
   "execution_count": 29,
   "metadata": {},
   "outputs": [
    {
     "data": {
      "text/html": [
       "<div>\n",
       "<style scoped>\n",
       "    .dataframe tbody tr th:only-of-type {\n",
       "        vertical-align: middle;\n",
       "    }\n",
       "\n",
       "    .dataframe tbody tr th {\n",
       "        vertical-align: top;\n",
       "    }\n",
       "\n",
       "    .dataframe thead th {\n",
       "        text-align: right;\n",
       "    }\n",
       "</style>\n",
       "<table border=\"1\" class=\"dataframe\">\n",
       "  <thead>\n",
       "    <tr style=\"text-align: right;\">\n",
       "      <th></th>\n",
       "      <th>SG-0</th>\n",
       "      <th>SG-18</th>\n",
       "    </tr>\n",
       "    <tr>\n",
       "      <th>sg_category</th>\n",
       "      <th></th>\n",
       "      <th></th>\n",
       "    </tr>\n",
       "  </thead>\n",
       "  <tbody>\n",
       "    <tr>\n",
       "      <td>Putt-1</td>\n",
       "      <td>NaN</td>\n",
       "      <td>NaN</td>\n",
       "    </tr>\n",
       "    <tr>\n",
       "      <td>Putt-3</td>\n",
       "      <td>0.42</td>\n",
       "      <td>0.80</td>\n",
       "    </tr>\n",
       "    <tr>\n",
       "      <td>Putt-10</td>\n",
       "      <td>NaN</td>\n",
       "      <td>NaN</td>\n",
       "    </tr>\n",
       "    <tr>\n",
       "      <td>Putt</td>\n",
       "      <td>NaN</td>\n",
       "      <td>NaN</td>\n",
       "    </tr>\n",
       "    <tr>\n",
       "      <td>Short-20</td>\n",
       "      <td>0.89</td>\n",
       "      <td>0.85</td>\n",
       "    </tr>\n",
       "  </tbody>\n",
       "</table>\n",
       "</div>"
      ],
      "text/plain": [
       "             SG-0  SG-18\n",
       "sg_category             \n",
       "Putt-1        NaN    NaN\n",
       "Putt-3       0.42   0.80\n",
       "Putt-10       NaN    NaN\n",
       "Putt          NaN    NaN\n",
       "Short-20     0.89   0.85"
      ]
     },
     "execution_count": 29,
     "metadata": {},
     "output_type": "execute_result"
    }
   ],
   "source": [
    "m0 = df_sg_means  #['SG-0']\n",
    "m0 = m0.reindex(cats).drop(['holed', 'Tee-200'])\n",
    "SG_details_table = pd.DataFrame(m0)\n",
    "#SG_details_table.columns = [\"SG\"]\n",
    "SG_details_table.head()"
   ]
  },
  {
   "cell_type": "code",
   "execution_count": 30,
   "metadata": {},
   "outputs": [
    {
     "data": {
      "text/html": [
       "<div>\n",
       "<style scoped>\n",
       "    .dataframe tbody tr th:only-of-type {\n",
       "        vertical-align: middle;\n",
       "    }\n",
       "\n",
       "    .dataframe tbody tr th {\n",
       "        vertical-align: top;\n",
       "    }\n",
       "\n",
       "    .dataframe thead th {\n",
       "        text-align: right;\n",
       "    }\n",
       "</style>\n",
       "<table border=\"1\" class=\"dataframe\">\n",
       "  <thead>\n",
       "    <tr style=\"text-align: right;\">\n",
       "      <th></th>\n",
       "      <th>SG-0</th>\n",
       "      <th>SG-18</th>\n",
       "      <th>label</th>\n",
       "    </tr>\n",
       "    <tr>\n",
       "      <th>sg_category</th>\n",
       "      <th></th>\n",
       "      <th></th>\n",
       "      <th></th>\n",
       "    </tr>\n",
       "  </thead>\n",
       "  <tbody>\n",
       "    <tr>\n",
       "      <td>Putt-1</td>\n",
       "      <td>NaN</td>\n",
       "      <td>NaN</td>\n",
       "      <td>Putt ≤ 1m</td>\n",
       "    </tr>\n",
       "    <tr>\n",
       "      <td>Putt-3</td>\n",
       "      <td>0.42</td>\n",
       "      <td>0.80</td>\n",
       "      <td>Putt ≤ 3m</td>\n",
       "    </tr>\n",
       "    <tr>\n",
       "      <td>Putt-10</td>\n",
       "      <td>NaN</td>\n",
       "      <td>NaN</td>\n",
       "      <td>Putt ≤ 10m</td>\n",
       "    </tr>\n",
       "    <tr>\n",
       "      <td>Putt</td>\n",
       "      <td>NaN</td>\n",
       "      <td>NaN</td>\n",
       "      <td>Distance Putt</td>\n",
       "    </tr>\n",
       "    <tr>\n",
       "      <td>Short-20</td>\n",
       "      <td>0.89</td>\n",
       "      <td>0.85</td>\n",
       "      <td>Around Green ≤ 20m</td>\n",
       "    </tr>\n",
       "  </tbody>\n",
       "</table>\n",
       "</div>"
      ],
      "text/plain": [
       "             SG-0  SG-18               label\n",
       "sg_category                                 \n",
       "Putt-1        NaN    NaN           Putt ≤ 1m\n",
       "Putt-3       0.42   0.80           Putt ≤ 3m\n",
       "Putt-10       NaN    NaN          Putt ≤ 10m\n",
       "Putt          NaN    NaN       Distance Putt\n",
       "Short-20     0.89   0.85  Around Green ≤ 20m"
      ]
     },
     "execution_count": 30,
     "metadata": {},
     "output_type": "execute_result"
    }
   ],
   "source": [
    "SG_details_table['label'] = SG_details_table.apply(lambda row: sg_official[row.name], axis=1)\n",
    "\n",
    "SG_details_table.head()"
   ]
  },
  {
   "cell_type": "markdown",
   "metadata": {},
   "source": [
    "For HTML output we need a way to iterate over rows by means of the Jinja template engine."
   ]
  },
  {
   "cell_type": "code",
   "execution_count": 31,
   "metadata": {},
   "outputs": [
    {
     "data": {
      "text/plain": [
       "[{'SG-0': nan, 'SG-18': nan, 'label': 'Putt ≤ 1m'},\n",
       " {'SG-0': 0.41999999999999993, 'SG-18': 0.8, 'label': 'Putt ≤ 3m'},\n",
       " {'SG-0': nan, 'SG-18': nan, 'label': 'Putt ≤ 10m'},\n",
       " {'SG-0': nan, 'SG-18': nan, 'label': 'Distance Putt'},\n",
       " {'SG-0': 0.8900000000000001, 'SG-18': 0.85, 'label': 'Around Green ≤ 20m'}]"
      ]
     },
     "execution_count": 31,
     "metadata": {},
     "output_type": "execute_result"
    }
   ],
   "source": [
    "SG_details_table.to_dict(orient='records')[0:5]  # create an ordered list of dicts, iteratable"
   ]
  },
  {
   "cell_type": "markdown",
   "metadata": {},
   "source": [
    "### Category Groups <a name=\"catgroups\"></a>\n",
    "(<a href=\"#toc\">back to ToC</a>)\n",
    "\n",
    "The PGA clusters strokes gained categories into clusters for easier communication."
   ]
  },
  {
   "cell_type": "code",
   "execution_count": 32,
   "metadata": {},
   "outputs": [],
   "source": [
    "category_groups = {\n",
    "    \"holed\": '',\n",
    "    \"Putt-1\": 'Putting',\n",
    "    \"Putt-3\": 'Putting',\n",
    "    \"Putt-10\": 'Putting',\n",
    "    \"Putt\": 'Putting',\n",
    "    \"Short-20\": 'Around the Green',\n",
    "    \"Short-40_F\": 'Around the Green',\n",
    "    \"Short-40_R\": 'Around the Green',\n",
    "    \"Appr-70_F\": 'Approach',\n",
    "    \"Appr-110_F\": 'Approach',\n",
    "    \"Appr-150_F\": 'Approach',\n",
    "    \"Appr-180_F\": 'Approach',\n",
    "    \"Appr-70_R\": 'Approach',\n",
    "    \"Appr-110_R\": 'Approach',\n",
    "    \"Appr-150_R\": 'Approach',\n",
    "    \"Appr-180_R\": 'Approach',\n",
    "    \"Appr-long\": 'Approach',\n",
    "    \"Bunker-Green\": 'Around the Green',\n",
    "    \"Bunker-70\": 'Around the Green',\n",
    "    \"Bunker-110\": 'Approach',\n",
    "    \"Bunker-150\": 'Approach',\n",
    "    \"Tee-200\": '',\n",
    "    \"Tee-400\": 'Driving'\n",
    "}\n",
    "\n",
    "cat_group_names = [\"Putting\",\"Around the Green\",\"Approach\",\"Driving\"]"
   ]
  },
  {
   "cell_type": "markdown",
   "metadata": {},
   "source": [
    "We attach the category group label to each row / shot."
   ]
  },
  {
   "cell_type": "code",
   "execution_count": 33,
   "metadata": {},
   "outputs": [
    {
     "data": {
      "text/html": [
       "<div>\n",
       "<style scoped>\n",
       "    .dataframe tbody tr th:only-of-type {\n",
       "        vertical-align: middle;\n",
       "    }\n",
       "\n",
       "    .dataframe tbody tr th {\n",
       "        vertical-align: top;\n",
       "    }\n",
       "\n",
       "    .dataframe thead th {\n",
       "        text-align: right;\n",
       "    }\n",
       "</style>\n",
       "<table border=\"1\" class=\"dataframe\">\n",
       "  <thead>\n",
       "    <tr style=\"text-align: right;\">\n",
       "      <th></th>\n",
       "      <th>cat_group</th>\n",
       "      <th>SG-0</th>\n",
       "      <th>SG-18</th>\n",
       "    </tr>\n",
       "  </thead>\n",
       "  <tbody>\n",
       "    <tr>\n",
       "      <td>0</td>\n",
       "      <td>Driving</td>\n",
       "      <td>-0.057895</td>\n",
       "      <td>0.634436</td>\n",
       "    </tr>\n",
       "    <tr>\n",
       "      <td>1</td>\n",
       "      <td>Approach</td>\n",
       "      <td>-0.620000</td>\n",
       "      <td>-0.410000</td>\n",
       "    </tr>\n",
       "    <tr>\n",
       "      <td>2</td>\n",
       "      <td>Around the Green</td>\n",
       "      <td>0.180000</td>\n",
       "      <td>-0.050000</td>\n",
       "    </tr>\n",
       "    <tr>\n",
       "      <td>3</td>\n",
       "      <td>Putting</td>\n",
       "      <td>0.420000</td>\n",
       "      <td>0.800000</td>\n",
       "    </tr>\n",
       "    <tr>\n",
       "      <td>4</td>\n",
       "      <td>Approach</td>\n",
       "      <td>-0.480000</td>\n",
       "      <td>0.000000</td>\n",
       "    </tr>\n",
       "  </tbody>\n",
       "</table>\n",
       "</div>"
      ],
      "text/plain": [
       "          cat_group      SG-0     SG-18\n",
       "0           Driving -0.057895  0.634436\n",
       "1          Approach -0.620000 -0.410000\n",
       "2  Around the Green  0.180000 -0.050000\n",
       "3           Putting  0.420000  0.800000\n",
       "4          Approach -0.480000  0.000000"
      ]
     },
     "execution_count": 33,
     "metadata": {},
     "output_type": "execute_result"
    }
   ],
   "source": [
    "df['cat_group'] = df['sg_category'].apply(lambda x: category_groups[x]).astype(\"category\")\n",
    "df['cat_group'].cat.set_categories(cat_group_names,inplace=True)\n",
    "dfy = df[['cat_group', 'SG-0', 'SG-18']]\n",
    "\n",
    "dfy.head()"
   ]
  },
  {
   "cell_type": "markdown",
   "metadata": {},
   "source": [
    "Now we're ready to aggregate SG statistics per category group."
   ]
  },
  {
   "cell_type": "code",
   "execution_count": 34,
   "metadata": {
    "scrolled": true
   },
   "outputs": [
    {
     "data": {
      "text/html": [
       "<div>\n",
       "<style scoped>\n",
       "    .dataframe tbody tr th:only-of-type {\n",
       "        vertical-align: middle;\n",
       "    }\n",
       "\n",
       "    .dataframe tbody tr th {\n",
       "        vertical-align: top;\n",
       "    }\n",
       "\n",
       "    .dataframe thead th {\n",
       "        text-align: right;\n",
       "    }\n",
       "</style>\n",
       "<table border=\"1\" class=\"dataframe\">\n",
       "  <thead>\n",
       "    <tr style=\"text-align: right;\">\n",
       "      <th></th>\n",
       "      <th>SG-0</th>\n",
       "      <th>SG-18</th>\n",
       "    </tr>\n",
       "    <tr>\n",
       "      <th>cat_group</th>\n",
       "      <th></th>\n",
       "      <th></th>\n",
       "    </tr>\n",
       "  </thead>\n",
       "  <tbody>\n",
       "    <tr>\n",
       "      <td>Putting</td>\n",
       "      <td>0.420000</td>\n",
       "      <td>0.800000</td>\n",
       "    </tr>\n",
       "    <tr>\n",
       "      <td>Around the Green</td>\n",
       "      <td>0.276667</td>\n",
       "      <td>0.283333</td>\n",
       "    </tr>\n",
       "    <tr>\n",
       "      <td>Approach</td>\n",
       "      <td>-0.550000</td>\n",
       "      <td>-0.205000</td>\n",
       "    </tr>\n",
       "    <tr>\n",
       "      <td>Driving</td>\n",
       "      <td>-0.057895</td>\n",
       "      <td>0.634436</td>\n",
       "    </tr>\n",
       "  </tbody>\n",
       "</table>\n",
       "</div>"
      ],
      "text/plain": [
       "                      SG-0     SG-18\n",
       "cat_group                           \n",
       "Putting           0.420000  0.800000\n",
       "Around the Green  0.276667  0.283333\n",
       "Approach         -0.550000 -0.205000\n",
       "Driving          -0.057895  0.634436"
      ]
     },
     "execution_count": 34,
     "metadata": {},
     "output_type": "execute_result"
    }
   ],
   "source": [
    "group_SG_stats = pd.pivot_table(dfy, index='cat_group')\n",
    "\n",
    "group_SG_stats.head()"
   ]
  },
  {
   "cell_type": "markdown",
   "metadata": {},
   "source": [
    "As explained above Jinja templates must be able to iterate over the table."
   ]
  },
  {
   "cell_type": "code",
   "execution_count": 35,
   "metadata": {},
   "outputs": [
    {
     "data": {
      "text/plain": [
       "[{'SG-0': 0.41999999999999993, 'SG-18': 0.8, 'group_name': 'Putting'},\n",
       " {'SG-0': 0.27666666666666667,\n",
       "  'SG-18': 0.28333333333333327,\n",
       "  'group_name': 'Around the Green'},\n",
       " {'SG-0': -0.55, 'SG-18': -0.20500000000000007, 'group_name': 'Approach'},\n",
       " {'SG-0': -0.057894752154709295,\n",
       "  'SG-18': 0.6344360683504151,\n",
       "  'group_name': 'Driving'}]"
      ]
     },
     "execution_count": 35,
     "metadata": {},
     "output_type": "execute_result"
    }
   ],
   "source": [
    "group_SG_stats['group_name'] = group_SG_stats.index  #cat_group_names\n",
    "\n",
    "group_SG_stats.to_dict(orient='records')"
   ]
  },
  {
   "cell_type": "markdown",
   "metadata": {},
   "source": [
    "### Classic Statistics <a name=\"classics\"></a>\n",
    "(<a href=\"#toc\">back to ToC</a>)"
   ]
  },
  {
   "cell_type": "markdown",
   "metadata": {},
   "source": [
    "**Driving Distance** is defined by Mark Broadie as the 75th percentile of all non-par-3 tee shots. We will be a bit more optimistic and use the 80th percentile."
   ]
  },
  {
   "cell_type": "code",
   "execution_count": 36,
   "metadata": {},
   "outputs": [
    {
     "name": "stdout",
     "output_type": "stream",
     "text": [
      "<class 'numpy.float64'>\n",
      "Driving Distance = 218.36\n"
     ]
    }
   ],
   "source": [
    "drives = df[['sg_category', 'dist']].where(df['sg_category'] == 'Tee-400', axis=0)\n",
    "driving_distance = drives.quantile(.8, axis=0)\n",
    "\n",
    "print(type(driving_distance[0]))\n",
    "print(\"Driving Distance = %.2f\" % driving_distance[0])"
   ]
  },
  {
   "cell_type": "markdown",
   "metadata": {},
   "source": [
    "Another classic is **Greens in Regulation**. This is a bit more involved.\n",
    "\n",
    "First filter for shots to the green or into the hole."
   ]
  },
  {
   "cell_type": "code",
   "execution_count": 37,
   "metadata": {},
   "outputs": [
    {
     "data": {
      "text/html": [
       "<div>\n",
       "<style scoped>\n",
       "    .dataframe tbody tr th:only-of-type {\n",
       "        vertical-align: middle;\n",
       "    }\n",
       "\n",
       "    .dataframe tbody tr th {\n",
       "        vertical-align: top;\n",
       "    }\n",
       "\n",
       "    .dataframe thead th {\n",
       "        text-align: right;\n",
       "    }\n",
       "</style>\n",
       "<table border=\"1\" class=\"dataframe\">\n",
       "  <thead>\n",
       "    <tr style=\"text-align: right;\">\n",
       "      <th></th>\n",
       "      <th>round</th>\n",
       "      <th>hole</th>\n",
       "      <th>stroke</th>\n",
       "      <th>par</th>\n",
       "      <th>result</th>\n",
       "    </tr>\n",
       "  </thead>\n",
       "  <tbody>\n",
       "    <tr>\n",
       "      <td>2</td>\n",
       "      <td>2020-10-01</td>\n",
       "      <td>1</td>\n",
       "      <td>3.0</td>\n",
       "      <td>4.0</td>\n",
       "      <td>G</td>\n",
       "    </tr>\n",
       "    <tr>\n",
       "      <td>3</td>\n",
       "      <td>2020-10-01</td>\n",
       "      <td>1</td>\n",
       "      <td>4.0</td>\n",
       "      <td>4.0</td>\n",
       "      <td>H</td>\n",
       "    </tr>\n",
       "    <tr>\n",
       "      <td>6</td>\n",
       "      <td>2020-10-01</td>\n",
       "      <td>2</td>\n",
       "      <td>3.0</td>\n",
       "      <td>3.0</td>\n",
       "      <td>H</td>\n",
       "    </tr>\n",
       "  </tbody>\n",
       "</table>\n",
       "</div>"
      ],
      "text/plain": [
       "        round hole  stroke  par result\n",
       "2  2020-10-01    1     3.0  4.0      G\n",
       "3  2020-10-01    1     4.0  4.0      H\n",
       "6  2020-10-01    2     3.0  3.0      H"
      ]
     },
     "execution_count": 37,
     "metadata": {},
     "output_type": "execute_result"
    }
   ],
   "source": [
    "greens = df[['round', 'hole', 'stroke', 'par', 'result']]\n",
    "ongreen = greens['result']==\"G\"\n",
    "inhole  = greens['result']==\"H\" # include hole-in-ones and eagles\n",
    "greens = greens.where(ongreen | inhole)\n",
    "\n",
    "greens.loc[greens['stroke'].notna()].head(3)"
   ]
  },
  {
   "cell_type": "markdown",
   "metadata": {},
   "source": [
    "We group by (round, hole) and take the shot with the lowest stroke number (= *np.min*). This gives us the first shot per hole to land on the green (or in the hole). In the next step we can compare this shot to par."
   ]
  },
  {
   "cell_type": "code",
   "execution_count": 38,
   "metadata": {},
   "outputs": [
    {
     "name": "stdout",
     "output_type": "stream",
     "text": [
      "par       int64\n",
      "stroke    int64\n",
      "dtype: object\n"
     ]
    },
    {
     "data": {
      "text/html": [
       "<div>\n",
       "<style scoped>\n",
       "    .dataframe tbody tr th:only-of-type {\n",
       "        vertical-align: middle;\n",
       "    }\n",
       "\n",
       "    .dataframe tbody tr th {\n",
       "        vertical-align: top;\n",
       "    }\n",
       "\n",
       "    .dataframe thead th {\n",
       "        text-align: right;\n",
       "    }\n",
       "</style>\n",
       "<table border=\"1\" class=\"dataframe\">\n",
       "  <thead>\n",
       "    <tr style=\"text-align: right;\">\n",
       "      <th></th>\n",
       "      <th></th>\n",
       "      <th>par</th>\n",
       "      <th>stroke</th>\n",
       "    </tr>\n",
       "    <tr>\n",
       "      <th>round</th>\n",
       "      <th>hole</th>\n",
       "      <th></th>\n",
       "      <th></th>\n",
       "    </tr>\n",
       "  </thead>\n",
       "  <tbody>\n",
       "    <tr>\n",
       "      <td rowspan=\"2\" valign=\"top\">2020-10-01</td>\n",
       "      <td>1</td>\n",
       "      <td>4</td>\n",
       "      <td>3</td>\n",
       "    </tr>\n",
       "    <tr>\n",
       "      <td>2</td>\n",
       "      <td>3</td>\n",
       "      <td>3</td>\n",
       "    </tr>\n",
       "  </tbody>\n",
       "</table>\n",
       "</div>"
      ],
      "text/plain": [
       "                 par  stroke\n",
       "round      hole             \n",
       "2020-10-01 1       4       3\n",
       "           2       3       3"
      ]
     },
     "execution_count": 38,
     "metadata": {},
     "output_type": "execute_result"
    }
   ],
   "source": [
    "gir = pd.pivot_table(greens, index=['round', 'hole'], values=['stroke', 'par'], aggfunc=np.min)\n",
    "\n",
    "gir['stroke'] = gir['stroke'].astype(int)\n",
    "gir['par']    = gir['par'].astype(int)\n",
    "print(gir.dtypes)\n",
    "gir.head(3)"
   ]
  },
  {
   "cell_type": "markdown",
   "metadata": {},
   "source": [
    "Now we introduce the *GiR* metric. It is >= 0 for a \"Green in Regulation\" and negativ otherwise."
   ]
  },
  {
   "cell_type": "code",
   "execution_count": 39,
   "metadata": {
    "scrolled": true
   },
   "outputs": [
    {
     "data": {
      "text/html": [
       "<div>\n",
       "<style scoped>\n",
       "    .dataframe tbody tr th:only-of-type {\n",
       "        vertical-align: middle;\n",
       "    }\n",
       "\n",
       "    .dataframe tbody tr th {\n",
       "        vertical-align: top;\n",
       "    }\n",
       "\n",
       "    .dataframe thead th {\n",
       "        text-align: right;\n",
       "    }\n",
       "</style>\n",
       "<table border=\"1\" class=\"dataframe\">\n",
       "  <thead>\n",
       "    <tr style=\"text-align: right;\">\n",
       "      <th></th>\n",
       "      <th></th>\n",
       "      <th>par</th>\n",
       "      <th>GiR</th>\n",
       "    </tr>\n",
       "    <tr>\n",
       "      <th>round</th>\n",
       "      <th>hole</th>\n",
       "      <th></th>\n",
       "      <th></th>\n",
       "    </tr>\n",
       "  </thead>\n",
       "  <tbody>\n",
       "    <tr>\n",
       "      <td rowspan=\"2\" valign=\"top\">2020-10-01</td>\n",
       "      <td>1</td>\n",
       "      <td>4</td>\n",
       "      <td>-1</td>\n",
       "    </tr>\n",
       "    <tr>\n",
       "      <td>2</td>\n",
       "      <td>3</td>\n",
       "      <td>-2</td>\n",
       "    </tr>\n",
       "  </tbody>\n",
       "</table>\n",
       "</div>"
      ],
      "text/plain": [
       "                 par  GiR\n",
       "round      hole          \n",
       "2020-10-01 1       4   -1\n",
       "           2       3   -2"
      ]
     },
     "execution_count": 39,
     "metadata": {},
     "output_type": "execute_result"
    }
   ],
   "source": [
    "gir['GiR'] = gir['par'] - gir['stroke'] - 2\n",
    "gir = gir.drop(['stroke'], axis=1)\n",
    "\n",
    "gir.head()"
   ]
  },
  {
   "cell_type": "markdown",
   "metadata": {},
   "source": [
    "As usual we want to be able to export it as a dict for the UI. This is intended for an overview of a round of golf, flagging GiR per hole."
   ]
  },
  {
   "cell_type": "code",
   "execution_count": 40,
   "metadata": {},
   "outputs": [
    {
     "data": {
      "text/plain": [
       "[{'par': 4, 'GiR': -1, 'hole': ('2020-10-01', '1')},\n",
       " {'par': 3, 'GiR': -2, 'hole': ('2020-10-01', '2')}]"
      ]
     },
     "execution_count": 40,
     "metadata": {},
     "output_type": "execute_result"
    }
   ],
   "source": [
    "gir['hole'] = gir.index\n",
    "gir.to_dict(orient='records')"
   ]
  },
  {
   "cell_type": "markdown",
   "metadata": {},
   "source": [
    "We're left with one small task: calculate the overall percentage for GiR."
   ]
  },
  {
   "cell_type": "code",
   "execution_count": 41,
   "metadata": {},
   "outputs": [
    {
     "name": "stdout",
     "output_type": "stream",
     "text": [
      "Overall GiR = 0.00 %\n"
     ]
    }
   ],
   "source": [
    "GiR_percentage = len(gir[gir['GiR'] >= 0].index)/(len(gir.index))*100.0\n",
    "\n",
    "print(\"Overall GiR = %.2f %%\" % GiR_percentage)"
   ]
  },
  {
   "cell_type": "markdown",
   "metadata": {},
   "source": [
    "The last classic statistic we'll calulate is **Fairways hit**."
   ]
  },
  {
   "cell_type": "code",
   "execution_count": 42,
   "metadata": {},
   "outputs": [
    {
     "name": "stdout",
     "output_type": "stream",
     "text": [
      "Overall count of long tee-shots = 1\n",
      "Overall FW = 100.00 %\n"
     ]
    },
    {
     "data": {
      "text/html": [
       "<div>\n",
       "<style scoped>\n",
       "    .dataframe tbody tr th:only-of-type {\n",
       "        vertical-align: middle;\n",
       "    }\n",
       "\n",
       "    .dataframe tbody tr th {\n",
       "        vertical-align: top;\n",
       "    }\n",
       "\n",
       "    .dataframe thead th {\n",
       "        text-align: right;\n",
       "    }\n",
       "</style>\n",
       "<table border=\"1\" class=\"dataframe\">\n",
       "  <thead>\n",
       "    <tr style=\"text-align: right;\">\n",
       "      <th></th>\n",
       "      <th>round</th>\n",
       "      <th>hole</th>\n",
       "      <th>stroke</th>\n",
       "      <th>sg_category</th>\n",
       "      <th>result</th>\n",
       "    </tr>\n",
       "  </thead>\n",
       "  <tbody>\n",
       "    <tr>\n",
       "      <td>0</td>\n",
       "      <td>2020-10-01</td>\n",
       "      <td>1</td>\n",
       "      <td>1.0</td>\n",
       "      <td>Tee-400</td>\n",
       "      <td>F</td>\n",
       "    </tr>\n",
       "  </tbody>\n",
       "</table>\n",
       "</div>"
      ],
      "text/plain": [
       "        round hole  stroke sg_category result\n",
       "0  2020-10-01    1     1.0     Tee-400      F"
      ]
     },
     "execution_count": 42,
     "metadata": {},
     "output_type": "execute_result"
    }
   ],
   "source": [
    "fw = df[['round', 'hole', 'stroke', 'sg_category', 'result']]\n",
    "onfw  = fw['result']==\"F\"\n",
    "istee = fw['sg_category']==\"Tee-400\"\n",
    "\n",
    "fw = fw.where(istee)\n",
    "teeshot_count = len(fw.loc[fw['result'].notna()])\n",
    "fw = fw.where(onfw)\n",
    "fw_count = len(fw.loc[fw['result'].notna()])\n",
    "fw_hit = fw_count/teeshot_count*100.0\n",
    "\n",
    "print(\"Overall count of long tee-shots = %d\" % teeshot_count)\n",
    "print(\"Overall FW = %.2f %%\" % fw_hit)\n",
    "fw.loc[fw['result'].notna()].head(3)\n",
    "      "
   ]
  },
  {
   "cell_type": "markdown",
   "metadata": {},
   "source": [
    "Now let's construct a table showing all the non-par-3 holes where the *1st* tee shot ended up on the fairway. We have to eliminate all tee shots with s shot index > 1. The data could include tee shots e.g. as 3rd shots (onto the fairway) after the first tee shot ended up OB (resulting in 2 tee shots for the same hole). We count these \"reloaded\" shots for our overall statistics, as they help us asses our driving capabilities, but we won't display them for course summaries."
   ]
  },
  {
   "cell_type": "code",
   "execution_count": 43,
   "metadata": {},
   "outputs": [
    {
     "data": {
      "text/html": [
       "<div>\n",
       "<style scoped>\n",
       "    .dataframe tbody tr th:only-of-type {\n",
       "        vertical-align: middle;\n",
       "    }\n",
       "\n",
       "    .dataframe tbody tr th {\n",
       "        vertical-align: top;\n",
       "    }\n",
       "\n",
       "    .dataframe thead th {\n",
       "        text-align: right;\n",
       "    }\n",
       "</style>\n",
       "<table border=\"1\" class=\"dataframe\">\n",
       "  <thead>\n",
       "    <tr style=\"text-align: right;\">\n",
       "      <th></th>\n",
       "      <th>round</th>\n",
       "      <th>hole</th>\n",
       "      <th>result</th>\n",
       "    </tr>\n",
       "  </thead>\n",
       "  <tbody>\n",
       "    <tr>\n",
       "      <td>0</td>\n",
       "      <td>2020-10-01</td>\n",
       "      <td>1</td>\n",
       "      <td>F</td>\n",
       "    </tr>\n",
       "  </tbody>\n",
       "</table>\n",
       "</div>"
      ],
      "text/plain": [
       "        round hole result\n",
       "0  2020-10-01    1      F"
      ]
     },
     "execution_count": 43,
     "metadata": {},
     "output_type": "execute_result"
    }
   ],
   "source": [
    "fw = fw.where(fw['stroke']< 1.5) # eliminate tee-shots after first one has been a miss\n",
    "fw = fw[['round', 'hole', 'result']]\n",
    "\n",
    "fw = fw.loc[fw['result'].notna()] # finally drop NaNs\n",
    "\n",
    "fw.head(3)"
   ]
  },
  {
   "cell_type": "markdown",
   "metadata": {},
   "source": [
    "As usual we want to be able to export it as a dict for the UI. This is intended for an overview of a round of golf, flagging *Fairways hit* per hole."
   ]
  },
  {
   "cell_type": "code",
   "execution_count": 44,
   "metadata": {},
   "outputs": [
    {
     "data": {
      "text/plain": [
       "[{'round': '2020-10-01', 'hole': '1', 'result': 'F'}]"
      ]
     },
     "execution_count": 44,
     "metadata": {},
     "output_type": "execute_result"
    }
   ],
   "source": [
    "fw.to_dict(orient='records')"
   ]
  },
  {
   "cell_type": "markdown",
   "metadata": {},
   "source": [
    "This is a function to calculate all the classic statistics in one go. There is nothing new here, just collecting the code snippets above."
   ]
  },
  {
   "cell_type": "code",
   "execution_count": 45,
   "metadata": {},
   "outputs": [
    {
     "data": {
      "text/plain": [
       "{'driving_distance': 218.3577709215127,\n",
       " 'GiR': [{'par': 4.0, 'GiR': -1.0, 'hole': ('2020-10-01', '1')},\n",
       "  {'par': 3.0, 'GiR': -2.0, 'hole': ('2020-10-01', '2')}],\n",
       " 'GiR_pcnt': 0.0,\n",
       " 'FW_hit': [{'round': '2020-10-01', 'hole': '1', 'result': 'F'}],\n",
       " 'FW_pcnt': 100.0}"
      ]
     },
     "execution_count": 45,
     "metadata": {},
     "output_type": "execute_result"
    }
   ],
   "source": [
    "def classic_stats(df):\n",
    "    drives = df[['sg_category', 'dist']].where(df['sg_category'] == 'Tee-400', axis=0)\n",
    "    driving_distance = drives.quantile(.8, axis=0)[0]\n",
    "    \n",
    "    greens = df[['round', 'hole', 'stroke', 'par', 'result']]\n",
    "    ongreen = greens['result']==\"G\"\n",
    "    inhole  = greens['result']==\"H\"\n",
    "    greens = greens.where(ongreen | inhole)    \n",
    "    gir = pd.pivot_table(greens, index=['round', 'hole'], values=['stroke', 'par'], aggfunc=np.min)\n",
    "    gir['GiR'] = gir['par'] - gir['stroke'] - 2\n",
    "    gir = gir.drop(['stroke'], axis=1)\n",
    "    gir['hole'] = gir.index\n",
    "    gir_dict = gir.to_dict(orient='records')\n",
    "    GiR_percentage = len(gir[gir['GiR'] >= 0].index)/(len(gir.index))*100.0\n",
    "    \n",
    "    fw = df[['round', 'hole', 'stroke', 'sg_category', 'result']]\n",
    "    onfw  = fw['result']==\"F\"\n",
    "    istee = fw['sg_category']==\"Tee-400\"\n",
    "    fw = fw.where(istee)\n",
    "    teeshot_count = len(fw.loc[fw['result'].notna()])\n",
    "    fw = fw.where(onfw)\n",
    "    fw_count = len(fw.loc[fw['result'].notna()])\n",
    "    fw_hit = fw_count/teeshot_count*100.0\n",
    "    fw = fw.where(fw['stroke']< 1.5)\n",
    "    fw = fw[['round', 'hole', 'result']]\n",
    "    fw = fw.loc[fw['result'].notna()]\n",
    "    fw_dict = fw.to_dict(orient='records')\n",
    "\n",
    "    stats = {\n",
    "        'driving_distance': driving_distance,\n",
    "        'GiR': gir_dict,\n",
    "        'GiR_pcnt': GiR_percentage,\n",
    "        'FW_hit': fw_dict,\n",
    "        'FW_pcnt': fw_hit\n",
    "    }\n",
    "    return stats\n",
    "\n",
    "classic_stats(df)\n"
   ]
  },
  {
   "cell_type": "code",
   "execution_count": 46,
   "metadata": {},
   "outputs": [
    {
     "data": {
      "text/plain": [
       "[{'stroke': 3, 'par': 3}, {'stroke': 4, 'par': 4}]"
      ]
     },
     "execution_count": 46,
     "metadata": {},
     "output_type": "execute_result"
    }
   ],
   "source": [
    "h = df.loc[df['result']==\"H\"][['hole','par','stroke']]\n",
    "h = pd.pivot_table(h, index=[\"par\"])\n",
    "h['par'] = h.index\n",
    "h.to_dict(orient=\"record\")"
   ]
  },
  {
   "cell_type": "code",
   "execution_count": null,
   "metadata": {},
   "outputs": [],
   "source": []
  },
  {
   "cell_type": "code",
   "execution_count": null,
   "metadata": {},
   "outputs": [],
   "source": []
  }
 ],
 "metadata": {
  "kernelspec": {
   "display_name": "Python 3",
   "language": "python",
   "name": "python3"
  },
  "language_info": {
   "codemirror_mode": {
    "name": "ipython",
    "version": 3
   },
   "file_extension": ".py",
   "mimetype": "text/x-python",
   "name": "python",
   "nbconvert_exporter": "python",
   "pygments_lexer": "ipython3",
   "version": "3.7.6"
  }
 },
 "nbformat": 4,
 "nbformat_minor": 4
}
